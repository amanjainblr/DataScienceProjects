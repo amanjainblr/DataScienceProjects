{
  "nbformat": 4,
  "nbformat_minor": 0,
  "metadata": {
    "colab": {
      "name": "kappa_project_assesmentKmeans",
      "provenance": [],
      "collapsed_sections": [],
      "authorship_tag": "ABX9TyNRiUee6AbI5m3hUqdjjT1/",
      "include_colab_link": true
    },
    "kernelspec": {
      "name": "python3",
      "display_name": "Python 3"
    },
    "language_info": {
      "name": "python"
    }
  },
  "cells": [
    {
      "cell_type": "markdown",
      "metadata": {
        "id": "view-in-github",
        "colab_type": "text"
      },
      "source": [
        "<a href=\"https://colab.research.google.com/github/jainaman588/DataScienceProjects/blob/master/kappa_project_assesmentKmeans.ipynb\" target=\"_parent\"><img src=\"https://colab.research.google.com/assets/colab-badge.svg\" alt=\"Open In Colab\"/></a>"
      ]
    },
    {
      "cell_type": "code",
      "metadata": {
        "id": "FkEwP8Qb32Q5"
      },
      "source": [
        "from sklearn.metrics import confusion_matrix\n",
        "import matplotlib.pyplot as plt\n",
        "from sklearn.metrics import multilabel_confusion_matrix\n",
        "from matplotlib.font_manager import FontProperties\n",
        "import pandas as pd\n",
        "import numpy as np\n",
        "from sklearn.metrics import cohen_kappa_score\n",
        "from sklearn.metrics import classification_report\n"
      ],
      "execution_count": null,
      "outputs": []
    },
    {
      "cell_type": "code",
      "metadata": {
        "id": "ko358qne4P73"
      },
      "source": [
        "df = pd.read_csv('/content/kappa.txt', sep='\\t', header=None)\n",
        "df[0] = df[0].replace(to_replace =2,value =3)"
      ],
      "execution_count": null,
      "outputs": []
    },
    {
      "cell_type": "code",
      "metadata": {
        "id": "ZYOomDg-4WRJ"
      },
      "source": [
        "y_pred = df[0].values\n",
        "y_act = df[1].values"
      ],
      "execution_count": null,
      "outputs": []
    },
    {
      "cell_type": "code",
      "metadata": {
        "id": "MpUP5jCl5AK9"
      },
      "source": [
        "def plot_confusion_matrix(cm, classes,\n",
        "                          normalize=False,\n",
        "                          title='Confusion matrix',\n",
        "                          cmap=plt.cm.Blues):#Blues\n",
        "    \"\"\"\n",
        "    This function prints and plots the confusion matrix.\n",
        "    Normalization can be applied by setting `normalize=True`.\n",
        "    \"\"\"\n",
        "    import itertools\n",
        "    if normalize:\n",
        "        cm = cm.astype('float') / cm.sum(axis=1)[:, np.newaxis]\n",
        "        print(\"Normalized confusion matrix\")\n",
        "    else:\n",
        "        print('Confusion matrix, without normalization')\n",
        "\n",
        "\n",
        "    font = FontProperties()\n",
        "    font.set_family('serif')\n",
        "    font.set_name('Times New Roman')\n",
        "    plt.imshow(cm, interpolation='nearest', cmap=cmap)\n",
        "    plt.title(title,fontdict ={'fontweight': 20, 'fontsize': 14, 'fontname':'Times New Roman'})\n",
        "    plt.colorbar()\n",
        "    tick_marks = np.arange(len(classes))\n",
        "    plt.xticks(tick_marks, classes)#, rotation=45)\n",
        "    plt.yticks(tick_marks, classes)\n",
        "\n",
        "    fmt = '.2f' if normalize else 'd'\n",
        "    thresh = cm.max() / 2.\n",
        "    for i, j in itertools.product(range(cm.shape[0]), range(cm.shape[1])):\n",
        "        plt.text(j, i, format(cm[i, j], fmt),\n",
        "                 horizontalalignment=\"center\",\n",
        "                 color=\"white\" if cm[i, j] > thresh else \"black\")\n",
        "\n",
        "    plt.ylabel('True Land Class' , labelpad=5, fontdict ={'fontweight': 20, 'fontsize': 12, 'fontname':'Times New Roman'} )\n",
        "    plt.xlabel('Predicted Land Class',labelpad=9, fontdict ={'fontweight': 20, 'fontsize': 12, 'fontname':'Times New Roman'} )\n",
        "    plt.tight_layout()\n",
        "    plt.savefig('cf.svg' )"
      ],
      "execution_count": null,
      "outputs": []
    },
    {
      "cell_type": "code",
      "metadata": {
        "id": "eqGOVs0oLXIW"
      },
      "source": [
        ""
      ],
      "execution_count": null,
      "outputs": []
    },
    {
      "cell_type": "code",
      "metadata": {
        "colab": {
          "base_uri": "https://localhost:8080/",
          "height": 367
        },
        "id": "rqcFDUK_H8zw",
        "outputId": "3b60ca26-ce76-49e0-d5a4-72578b97b179"
      },
      "source": [
        "cnf_matrix = confusion_matrix(y_act, y_pred)\n",
        "cf_report = classification_report(y_act, y_pred, target_names=['Bareland', 'Urban', 'Forest'], output_dict=True)\n",
        "np.set_printoptions(precision=2)\n",
        "\n",
        "# Plot non-normalized confusion matrix\n",
        "plt.figure()\n",
        "plot_confusion_matrix(cnf_matrix, classes=['Bareland', 'Urban', 'Forest'],\n",
        "                      title='LULC Confusion matrix')"
      ],
      "execution_count": null,
      "outputs": [
        {
          "output_type": "stream",
          "text": [
            "Confusion matrix, without normalization\n",
            "[[ 97  34   6]\n",
            " [ 57 144  11]\n",
            " [  8   1 129]]\n"
          ],
          "name": "stdout"
        },
        {
          "output_type": "display_data",
          "data": {
            "image/png": "[encoded data removed]",
            "text/plain": [
              "<Figure size 432x288 with 2 Axes>"
            ]
          },
          "metadata": {
            "tags": [],
            "needs_background": "light"
          }
        }
      ]
    },
    {
      "cell_type": "code",
      "metadata": {
        "colab": {
          "base_uri": "https://localhost:8080/"
        },
        "id": "amJY0go2hD_U",
        "outputId": "15f24134-9308-4342-bb1f-0f9cf7066bba"
      },
      "source": [
        "print(cf_report)"
      ],
      "execution_count": null,
      "outputs": [
        {
          "output_type": "stream",
          "text": [
            "{'Bareland': {'precision': 0.5987654320987654, 'recall': 0.708029197080292, 'f1-score': 0.6488294314381272, 'support': 137}, 'Urban': {'precision': 0.8044692737430168, 'recall': 0.6792452830188679, 'f1-score': 0.7365728900255755, 'support': 212}, 'Forest': {'precision': 0.8835616438356164, 'recall': 0.9347826086956522, 'f1-score': 0.9084507042253521, 'support': 138}, 'accuracy': 0.7597535934291582, 'macro avg': {'precision': 0.7622654498924663, 'recall': 0.7740190295982706, 'f1-score': 0.7646176752296849, 'support': 487}, 'weighted avg': {'precision': 0.769014080247157, 'recall': 0.7597535934291582, 'f1-score': 0.7605940081633347, 'support': 487}}\n"
          ],
          "name": "stdout"
        }
      ]
    },
    {
      "cell_type": "code",
      "metadata": {
        "id": "ETtgSQTwhsq9"
      },
      "source": [
        "df_cf = pd.DataFrame(cf_report).transpose()"
      ],
      "execution_count": null,
      "outputs": []
    },
    {
      "cell_type": "code",
      "metadata": {
        "id": "n3rbeCkjhwcR"
      },
      "source": [
        "df_cf.to_csv('cf_report.csv')"
      ],
      "execution_count": null,
      "outputs": []
    },
    {
      "cell_type": "code",
      "metadata": {
        "id": "pf9pVWgsh013"
      },
      "source": [
        ""
      ],
      "execution_count": null,
      "outputs": []
    },
    {
      "cell_type": "code",
      "metadata": {
        "colab": {
          "base_uri": "https://localhost:8080/",
          "height": 367
        },
        "id": "BcTBFOh76FXe",
        "outputId": "d2c18500-8d73-4240-ddb7-3deff8b959ed"
      },
      "source": [
        "cnf_matrix = confusion_matrix(y_act, y_pred)\n",
        "np.set_printoptions(precision=2)\n",
        "\n",
        "# Plot non-normalized confusion matrix\n",
        "plt.figure()\n",
        "plot_confusion_matrix(cnf_matrix, classes=['Bareland', 'Urban', 'Forest'],\n",
        "                      title='Confusion matrix')"
      ],
      "execution_count": null,
      "outputs": [
        {
          "output_type": "stream",
          "text": [
            "Confusion matrix, without normalization\n",
            "[[ 97  34   6]\n",
            " [ 57 144  11]\n",
            " [  8   1 129]]\n"
          ],
          "name": "stdout"
        },
        {
          "output_type": "display_data",
          "data": {
            "image/png": "[encoded data removed]",
            "text/plain": [
              "<Figure size 432x288 with 2 Axes>"
            ]
          },
          "metadata": {
            "tags": [],
            "needs_background": "light"
          }
        }
      ]
    },
    {
      "cell_type": "code",
      "metadata": {
        "id": "tMPlPVMQHeuQ"
      },
      "source": [
        ""
      ],
      "execution_count": null,
      "outputs": []
    },
    {
      "cell_type": "code",
      "metadata": {
        "colab": {
          "base_uri": "https://localhost:8080/"
        },
        "id": "Vo_yLMsR6eJk",
        "outputId": "d8da6144-3be2-437b-f8c2-1ccb9b324da3"
      },
      "source": [
        "cohen_kappa_score(y_act, y_pred)"
      ],
      "execution_count": null,
      "outputs": [
        {
          "output_type": "execute_result",
          "data": {
            "text/plain": [
              "0.6367965119614479"
            ]
          },
          "metadata": {
            "tags": []
          },
          "execution_count": 30
        }
      ]
    },
    {
      "cell_type": "code",
      "metadata": {
        "colab": {
          "base_uri": "https://localhost:8080/",
          "height": 34
        },
        "id": "DKd15w2xC2hp",
        "outputId": "6f6ffa55-6ab5-4e6f-e2b6-5238afa78901"
      },
      "source": [
        "plt.savefig('confusion_matrix.png', dpi =300 )"
      ],
      "execution_count": null,
      "outputs": [
        {
          "output_type": "display_data",
          "data": {
            "text/plain": [
              "<Figure size 432x288 with 0 Axes>"
            ]
          },
          "metadata": {
            "tags": []
          }
        }
      ]
    },
    {
      "cell_type": "code",
      "metadata": {
        "colab": {
          "base_uri": "https://localhost:8080/"
        },
        "id": "0qaDDIWO7j3c",
        "outputId": "f5ef0f6c-814e-4667-a72f-9e6aa7225bc5"
      },
      "source": [
        "len(df.loc[df[0]==1])"
      ],
      "execution_count": null,
      "outputs": [
        {
          "output_type": "execute_result",
          "data": {
            "text/plain": [
              "162"
            ]
          },
          "metadata": {
            "tags": []
          },
          "execution_count": 52
        }
      ]
    },
    {
      "cell_type": "code",
      "metadata": {
        "id": "JR-gsXrhGpxx"
      },
      "source": [
        ""
      ],
      "execution_count": null,
      "outputs": []
    }
  ]
}