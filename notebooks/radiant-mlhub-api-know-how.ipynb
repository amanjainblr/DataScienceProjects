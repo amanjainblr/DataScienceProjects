{
  "nbformat": 4,
  "nbformat_minor": 0,
  "metadata": {
    "kernelspec": {
      "display_name": "Python 3",
      "language": "python",
      "name": "python3"
    },
    "language_info": {
      "codemirror_mode": {
        "name": "ipython",
        "version": 3
      },
      "file_extension": ".py",
      "mimetype": "text/x-python",
      "name": "python",
      "nbconvert_exporter": "python",
      "pygments_lexer": "ipython3",
      "version": "3.8.3"
    },
    "colab": {
      "name": "radiant-mlhub-api-know-how.ipynb",
      "provenance": [],
      "include_colab_link": true
    },
    "widgets": {
      "application/vnd.jupyter.widget-state+json": {
        "a19e823362b54de291648f5c62801374": {
          "model_module": "@jupyter-widgets/controls",
          "model_name": "HBoxModel",
          "state": {
            "_view_name": "HBoxView",
            "_dom_classes": [],
            "_model_name": "HBoxModel",
            "_view_module": "@jupyter-widgets/controls",
            "_model_module_version": "1.5.0",
            "_view_count": null,
            "_view_module_version": "1.5.0",
            "box_style": "",
            "layout": "IPY_MODEL_96398604f67946538f1349c07178b6e0",
            "_model_module": "@jupyter-widgets/controls",
            "children": [
              "IPY_MODEL_1b3af7fdc3654aa5a54032ca22673f16",
              "IPY_MODEL_03fce18bc5734cd68f607e22061360f1",
              "IPY_MODEL_a08e0247bef14ffd97273ea9a49386c0"
            ]
          }
        },
        "96398604f67946538f1349c07178b6e0": {
          "model_module": "@jupyter-widgets/base",
          "model_name": "LayoutModel",
          "state": {
            "_view_name": "LayoutView",
            "grid_template_rows": null,
            "right": null,
            "justify_content": null,
            "_view_module": "@jupyter-widgets/base",
            "overflow": null,
            "_model_module_version": "1.2.0",
            "_view_count": null,
            "flex_flow": null,
            "width": null,
            "min_width": null,
            "border": null,
            "align_items": null,
            "bottom": null,
            "_model_module": "@jupyter-widgets/base",
            "top": null,
            "grid_column": null,
            "overflow_y": null,
            "overflow_x": null,
            "grid_auto_flow": null,
            "grid_area": null,
            "grid_template_columns": null,
            "flex": null,
            "_model_name": "LayoutModel",
            "justify_items": null,
            "grid_row": null,
            "max_height": null,
            "align_content": null,
            "visibility": null,
            "align_self": null,
            "height": null,
            "min_height": null,
            "padding": null,
            "grid_auto_rows": null,
            "grid_gap": null,
            "max_width": null,
            "order": null,
            "_view_module_version": "1.2.0",
            "grid_template_areas": null,
            "object_position": null,
            "object_fit": null,
            "grid_auto_columns": null,
            "margin": null,
            "display": null,
            "left": null
          }
        },
        "1b3af7fdc3654aa5a54032ca22673f16": {
          "model_module": "@jupyter-widgets/controls",
          "model_name": "HTMLModel",
          "state": {
            "_view_name": "HTMLView",
            "style": "IPY_MODEL_59637e3b120e43e8aaec54f93ed52bac",
            "_dom_classes": [],
            "description": "",
            "_model_name": "HTMLModel",
            "placeholder": "​",
            "_view_module": "@jupyter-widgets/controls",
            "_model_module_version": "1.5.0",
            "value": "",
            "_view_count": null,
            "_view_module_version": "1.5.0",
            "description_tooltip": null,
            "_model_module": "@jupyter-widgets/controls",
            "layout": "IPY_MODEL_c8b4cb3964e240f4b671b21d01991909"
          }
        },
        "03fce18bc5734cd68f607e22061360f1": {
          "model_module": "@jupyter-widgets/controls",
          "model_name": "FloatProgressModel",
          "state": {
            "_view_name": "ProgressView",
            "style": "IPY_MODEL_3ee12bce4f81477c865c587e4d0b9010",
            "_dom_classes": [],
            "description": "",
            "_model_name": "FloatProgressModel",
            "bar_style": "success",
            "max": 31.4,
            "_view_module": "@jupyter-widgets/controls",
            "_model_module_version": "1.5.0",
            "value": 31.4,
            "_view_count": null,
            "_view_module_version": "1.5.0",
            "orientation": "horizontal",
            "min": 0,
            "description_tooltip": null,
            "_model_module": "@jupyter-widgets/controls",
            "layout": "IPY_MODEL_8e7b38d3a559449687bb3204f70d3992"
          }
        },
        "a08e0247bef14ffd97273ea9a49386c0": {
          "model_module": "@jupyter-widgets/controls",
          "model_name": "HTMLModel",
          "state": {
            "_view_name": "HTMLView",
            "style": "IPY_MODEL_18a9710d4a7f40bda0351256fe15378a",
            "_dom_classes": [],
            "description": "",
            "_model_name": "HTMLModel",
            "placeholder": "​",
            "_view_module": "@jupyter-widgets/controls",
            "_model_module_version": "1.5.0",
            "value": " 35.0/? [00:02&lt;00:00,  5.47M/s]",
            "_view_count": null,
            "_view_module_version": "1.5.0",
            "description_tooltip": null,
            "_model_module": "@jupyter-widgets/controls",
            "layout": "IPY_MODEL_e603892b16764f9292c831e46f9479bc"
          }
        },
        "59637e3b120e43e8aaec54f93ed52bac": {
          "model_module": "@jupyter-widgets/controls",
          "model_name": "DescriptionStyleModel",
          "state": {
            "_view_name": "StyleView",
            "_model_name": "DescriptionStyleModel",
            "description_width": "",
            "_view_module": "@jupyter-widgets/base",
            "_model_module_version": "1.5.0",
            "_view_count": null,
            "_view_module_version": "1.2.0",
            "_model_module": "@jupyter-widgets/controls"
          }
        },
        "c8b4cb3964e240f4b671b21d01991909": {
          "model_module": "@jupyter-widgets/base",
          "model_name": "LayoutModel",
          "state": {
            "_view_name": "LayoutView",
            "grid_template_rows": null,
            "right": null,
            "justify_content": null,
            "_view_module": "@jupyter-widgets/base",
            "overflow": null,
            "_model_module_version": "1.2.0",
            "_view_count": null,
            "flex_flow": null,
            "width": null,
            "min_width": null,
            "border": null,
            "align_items": null,
            "bottom": null,
            "_model_module": "@jupyter-widgets/base",
            "top": null,
            "grid_column": null,
            "overflow_y": null,
            "overflow_x": null,
            "grid_auto_flow": null,
            "grid_area": null,
            "grid_template_columns": null,
            "flex": null,
            "_model_name": "LayoutModel",
            "justify_items": null,
            "grid_row": null,
            "max_height": null,
            "align_content": null,
            "visibility": null,
            "align_self": null,
            "height": null,
            "min_height": null,
            "padding": null,
            "grid_auto_rows": null,
            "grid_gap": null,
            "max_width": null,
            "order": null,
            "_view_module_version": "1.2.0",
            "grid_template_areas": null,
            "object_position": null,
            "object_fit": null,
            "grid_auto_columns": null,
            "margin": null,
            "display": null,
            "left": null
          }
        },
        "3ee12bce4f81477c865c587e4d0b9010": {
          "model_module": "@jupyter-widgets/controls",
          "model_name": "ProgressStyleModel",
          "state": {
            "_view_name": "StyleView",
            "_model_name": "ProgressStyleModel",
            "description_width": "",
            "_view_module": "@jupyter-widgets/base",
            "_model_module_version": "1.5.0",
            "_view_count": null,
            "_view_module_version": "1.2.0",
            "bar_color": null,
            "_model_module": "@jupyter-widgets/controls"
          }
        },
        "8e7b38d3a559449687bb3204f70d3992": {
          "model_module": "@jupyter-widgets/base",
          "model_name": "LayoutModel",
          "state": {
            "_view_name": "LayoutView",
            "grid_template_rows": null,
            "right": null,
            "justify_content": null,
            "_view_module": "@jupyter-widgets/base",
            "overflow": null,
            "_model_module_version": "1.2.0",
            "_view_count": null,
            "flex_flow": null,
            "width": null,
            "min_width": null,
            "border": null,
            "align_items": null,
            "bottom": null,
            "_model_module": "@jupyter-widgets/base",
            "top": null,
            "grid_column": null,
            "overflow_y": null,
            "overflow_x": null,
            "grid_auto_flow": null,
            "grid_area": null,
            "grid_template_columns": null,
            "flex": null,
            "_model_name": "LayoutModel",
            "justify_items": null,
            "grid_row": null,
            "max_height": null,
            "align_content": null,
            "visibility": null,
            "align_self": null,
            "height": null,
            "min_height": null,
            "padding": null,
            "grid_auto_rows": null,
            "grid_gap": null,
            "max_width": null,
            "order": null,
            "_view_module_version": "1.2.0",
            "grid_template_areas": null,
            "object_position": null,
            "object_fit": null,
            "grid_auto_columns": null,
            "margin": null,
            "display": null,
            "left": null
          }
        },
        "18a9710d4a7f40bda0351256fe15378a": {
          "model_module": "@jupyter-widgets/controls",
          "model_name": "DescriptionStyleModel",
          "state": {
            "_view_name": "StyleView",
            "_model_name": "DescriptionStyleModel",
            "description_width": "",
            "_view_module": "@jupyter-widgets/base",
            "_model_module_version": "1.5.0",
            "_view_count": null,
            "_view_module_version": "1.2.0",
            "_model_module": "@jupyter-widgets/controls"
          }
        },
        "e603892b16764f9292c831e46f9479bc": {
          "model_module": "@jupyter-widgets/base",
          "model_name": "LayoutModel",
          "state": {
            "_view_name": "LayoutView",
            "grid_template_rows": null,
            "right": null,
            "justify_content": null,
            "_view_module": "@jupyter-widgets/base",
            "overflow": null,
            "_model_module_version": "1.2.0",
            "_view_count": null,
            "flex_flow": null,
            "width": null,
            "min_width": null,
            "border": null,
            "align_items": null,
            "bottom": null,
            "_model_module": "@jupyter-widgets/base",
            "top": null,
            "grid_column": null,
            "overflow_y": null,
            "overflow_x": null,
            "grid_auto_flow": null,
            "grid_area": null,
            "grid_template_columns": null,
            "flex": null,
            "_model_name": "LayoutModel",
            "justify_items": null,
            "grid_row": null,
            "max_height": null,
            "align_content": null,
            "visibility": null,
            "align_self": null,
            "height": null,
            "min_height": null,
            "padding": null,
            "grid_auto_rows": null,
            "grid_gap": null,
            "max_width": null,
            "order": null,
            "_view_module_version": "1.2.0",
            "grid_template_areas": null,
            "object_position": null,
            "object_fit": null,
            "grid_auto_columns": null,
            "margin": null,
            "display": null,
            "left": null
          }
        }
      }
    }
  },
  "cells": [
    {
      "cell_type": "markdown",
      "metadata": {
        "id": "view-in-github",
        "colab_type": "text"
      },
      "source": [
        "<a href=\"https://colab.research.google.com/github/jainaman588/DataScienceProjects/blob/master/notebooks/radiant-mlhub-api-know-how.ipynb\" target=\"_parent\"><img src=\"https://colab.research.google.com/assets/colab-badge.svg\" alt=\"Open In Colab\"/></a>"
      ]
    },
    {
      "cell_type": "markdown",
      "metadata": {
        "id": "3vNW-IylqE_0"
      },
      "source": [
        "<img src='https://radiant-assets.s3-us-west-2.amazonaws.com/PrimaryRadiantMLHubLogo.png' alt='Radiant MLHub Logo' width='300'/>\n",
        "\n",
        "# How to use the Radiant MLHub API\n",
        "\n",
        "The Radiant MLHub API gives access to open Earth imagery training data for machine learning applications. You can learn more about the repository at the [Radiant MLHub site](https://mlhub.earth) and about the organization behind it at the [Radiant Earth Foundation site](https://radiant.earth).\n",
        "\n",
        "This Jupyter notebook, which you may copy and adapt for any use, shows basic examples of how to use the API. Full documentation for the API is available at [docs.mlhub.earth](docs.mlhub.earth).\n",
        "\n",
        "We'll show you how to set up your authorization, see the list of available collections and datasets, and retrieve the items (the data contained within them) from those collections. \n",
        "\n",
        "Each item in our collection is explained in json format compliant with [STAC](https://stacspec.org/) [label extension](https://github.com/radiantearth/stac-spec/tree/master/extensions/label) definition."
      ]
    },
    {
      "cell_type": "markdown",
      "metadata": {
        "id": "hfq2eKq-qE_7"
      },
      "source": [
        "## Dependencies\n",
        "\n",
        "This notebook utilizes the [`radiant-mlhub` Python client](https://pypi.org/project/radiant-mlhub/) for interacting with the API. If you are running this notebooks using Binder, then this dependency has already been installed. If you are running this notebook locally, you will need to install this yourself.\n",
        "\n",
        "See the official [`radiant-mlhub` docs](https://radiant-mlhub.readthedocs.io/) for more documentation of the full functionality of that library."
      ]
    },
    {
      "cell_type": "markdown",
      "metadata": {
        "id": "SKgJ5FwSqE_8"
      },
      "source": [
        "## Authentication\n",
        "\n",
        "### Create an API Key\n",
        "\n",
        "Access to the Radiant MLHub API requires an API key. To get your API key, go to [dashboard.mlhub.earth](https://dashboard.mlhub.earth). If you have not used Radiant MLHub before, you will need to sign up and create a new account. Otherwise, sign in. In the **API Keys** tab, you'll be able to create API key(s), which you will need. *Do not share* your API key with others: your usage may be limited and sharing your API key is a security risk.\n",
        "\n",
        "### Configure the Client\n",
        "\n",
        "Once you have your API key, you need to configure the `radiant_mlhub` library to use that key. There are a number of ways to configure this (see the [Authentication docs](https://radiant-mlhub.readthedocs.io/en/latest/authentication.html) for details). \n",
        "\n",
        "For these examples, we will set the `MLHUB_API_KEY` environment variable. Run the cell below to save your API key as an environment variable that the client library will recognize.\n",
        "\n",
        "*If you are running this notebook locally and have configured a profile as described in the [Authentication docs](https://radiant-mlhub.readthedocs.io/en/latest/authentication.html), then you do not need to execute this cell.*\n"
      ]
    },
    {
      "cell_type": "code",
      "metadata": {
        "id": "fQGgs166qE_-"
      },
      "source": [
        "import os\n",
        "\n",
        "os.environ['MLHUB_API_KEY'] = '328bd4d36624758908483454ae963b9dbc527f35935574adb0dcaba4143f7ebd'"
      ],
      "execution_count": 1,
      "outputs": []
    },
    {
      "cell_type": "code",
      "metadata": {
        "id": "ALZpOukfqxOI",
        "outputId": "47692641-bf42-4e04-9642-3e50761b9245",
        "colab": {
          "base_uri": "https://localhost:8080/"
        }
      },
      "source": [
        "!pip install radiant_mlhub"
      ],
      "execution_count": 3,
      "outputs": [
        {
          "output_type": "stream",
          "text": [
            "Collecting radiant_mlhub\n",
            "  Downloading https://files.pythonhosted.org/packages/d0/9d/7e226b0bd483260fa309d10bc6cb68ffbd965825d795055e3a4dd002635b/radiant_mlhub-0.2.1-py3-none-any.whl\n",
            "Collecting pystac==0.5.4\n",
            "\u001b[?25l  Downloading https://files.pythonhosted.org/packages/69/17/86b6e1531e1295c52d400e0a7d03b2d3a4ae75d92faec6fa00265a05ef86/pystac-0.5.4-py3-none-any.whl (133kB)\n",
            "\u001b[K     |████████████████████████████████| 143kB 6.6MB/s \n",
            "\u001b[?25hRequirement already satisfied: click~=7.1.2 in /usr/local/lib/python3.7/dist-packages (from radiant_mlhub) (7.1.2)\n",
            "Collecting requests~=2.25.1\n",
            "\u001b[?25l  Downloading https://files.pythonhosted.org/packages/29/c1/24814557f1d22c56d50280771a17307e6bf87b70727d975fd6b2ce6b014a/requests-2.25.1-py2.py3-none-any.whl (61kB)\n",
            "\u001b[K     |████████████████████████████████| 61kB 5.7MB/s \n",
            "\u001b[?25hCollecting tqdm~=4.56.0\n",
            "\u001b[?25l  Downloading https://files.pythonhosted.org/packages/b3/db/dcda019790a8d989b8b0e7290f1c651a0aaef10bbe6af00032155e04858d/tqdm-4.56.2-py2.py3-none-any.whl (72kB)\n",
            "\u001b[K     |████████████████████████████████| 81kB 7.7MB/s \n",
            "\u001b[?25hRequirement already satisfied: python-dateutil>=2.7.0 in /usr/local/lib/python3.7/dist-packages (from pystac==0.5.4->radiant_mlhub) (2.8.1)\n",
            "Requirement already satisfied: urllib3<1.27,>=1.21.1 in /usr/local/lib/python3.7/dist-packages (from requests~=2.25.1->radiant_mlhub) (1.24.3)\n",
            "Requirement already satisfied: chardet<5,>=3.0.2 in /usr/local/lib/python3.7/dist-packages (from requests~=2.25.1->radiant_mlhub) (3.0.4)\n",
            "Requirement already satisfied: idna<3,>=2.5 in /usr/local/lib/python3.7/dist-packages (from requests~=2.25.1->radiant_mlhub) (2.10)\n",
            "Requirement already satisfied: certifi>=2017.4.17 in /usr/local/lib/python3.7/dist-packages (from requests~=2.25.1->radiant_mlhub) (2021.5.30)\n",
            "Requirement already satisfied: six>=1.5 in /usr/local/lib/python3.7/dist-packages (from python-dateutil>=2.7.0->pystac==0.5.4->radiant_mlhub) (1.15.0)\n",
            "\u001b[31mERROR: google-colab 1.0.0 has requirement requests~=2.23.0, but you'll have requests 2.25.1 which is incompatible.\u001b[0m\n",
            "\u001b[31mERROR: datascience 0.10.6 has requirement folium==0.2.1, but you'll have folium 0.8.3 which is incompatible.\u001b[0m\n",
            "Installing collected packages: pystac, requests, tqdm, radiant-mlhub\n",
            "  Found existing installation: requests 2.23.0\n",
            "    Uninstalling requests-2.23.0:\n",
            "      Successfully uninstalled requests-2.23.0\n",
            "  Found existing installation: tqdm 4.41.1\n",
            "    Uninstalling tqdm-4.41.1:\n",
            "      Successfully uninstalled tqdm-4.41.1\n",
            "Successfully installed pystac-0.5.4 radiant-mlhub-0.2.1 requests-2.25.1 tqdm-4.56.2\n"
          ],
          "name": "stdout"
        }
      ]
    },
    {
      "cell_type": "code",
      "metadata": {
        "id": "3lJ6DDvpqE__"
      },
      "source": [
        "from radiant_mlhub import client, get_session"
      ],
      "execution_count": 4,
      "outputs": []
    },
    {
      "cell_type": "markdown",
      "metadata": {
        "id": "Noe2KNRbqFAA"
      },
      "source": [
        "## List data collections\n",
        "\n",
        "A **collection** in the Radiant MLHub API is a [STAC Collection](https://github.com/radiantearth/stac-spec/tree/master/collection-spec) representing a group of resources (represented as [STAC Items](https://github.com/radiantearth/stac-spec/tree/master/item-spec) and their associated assets) covering a given spatial and temporal extent. A Radiant MLHub collection may contain resources representing training labels, source imagery, or (rarely) both.\n",
        "\n",
        "Use the `client.list_collections` function to list all available collections and view their properties. The following cell uses the `client.list_collections` function to print the ID, license (if available), and citation (if available) for all available collections."
      ]
    },
    {
      "cell_type": "code",
      "metadata": {
        "id": "iVeBmSDBqFAB",
        "outputId": "9b799b1f-cfbb-4a60-bb61-6bfd99c7c238",
        "colab": {
          "base_uri": "https://localhost:8080/"
        }
      },
      "source": [
        "collections = client.list_collections()\n",
        "for c in collections:\n",
        "    collection_id = c['id']\n",
        "    license = c.get('license', 'N/A')\n",
        "    citation = c.get('sci:citation', 'N/A')\n",
        "\n",
        "    print(f'ID:       {collection_id}\\nLicense:  {license}\\nCitation: {citation}\\n')"
      ],
      "execution_count": 5,
      "outputs": [
        {
          "output_type": "stream",
          "text": [
            "ID:       ref_african_crops_kenya_01_labels\n",
            "License:  CC-BY-SA-4.0\n",
            "Citation: PlantVillage (2019) \"PlantVillage Kenya Ground Reference Crop Type Dataset\", Version 1.0, Radiant MLHub. [Date Accessed] https://doi.org/10.34911/RDNT.U41J87\n",
            "\n",
            "ID:       ref_african_crops_kenya_01_source\n",
            "License:  CC-BY-SA-4.0\n",
            "Citation: PlantVillage (2019) \"PlantVillage Kenya Ground Reference Crop Type Dataset\", Version 1.0, Radiant MLHub. [Date Accessed] https://doi.org/10.34911/RDNT.U41J87\n",
            "\n",
            "ID:       ref_african_crops_tanzania_01_labels\n",
            "License:  CC-BY-SA-4.0\n",
            "Citation: Great African Food Company (2019) \"Great African Food Company Tanzania Ground Reference Crop Type Dataset\", Version 1.0, Radiant MLHub. [Date Accessed] https://doi.org/10.34911/RDNT.5VX40R\n",
            "\n",
            "ID:       ref_african_crops_tanzania_01_source\n",
            "License:  CC-BY-SA-4.0\n",
            "Citation: Great African Food Company (2019) \"Great African Food Company Tanzania Ground Reference Crop Type Dataset\", Version 1.0, Radiant MLHub. [Date Accessed] https://doi.org/10.34911/RDNT.5VX40R\n",
            "\n",
            "ID:       ref_african_crops_uganda_01_labels\n",
            "License:  CC-BY-SA-4.0\n",
            "Citation: Bocquet, C., & Dalberg Data Insights. (2019) \"Dalberg Data Insights Uganda Crop Classification\", Version 1.0, Radiant MLHub. [Date Accessed] https://doi.org/10.34911/RDNT.EII04X\n",
            "\n",
            "ID:       sn2_AOI_2_Vegas\n",
            "License:  CC-BY-SA-4.0\n",
            "Citation: N/A\n",
            "\n",
            "ID:       ref_african_crops_uganda_01_source\n",
            "License:  CC-BY-SA-4.0\n",
            "Citation: Bocquet, C., & Dalberg Data Insights. (2019) \"Dalberg Data Insights Uganda Crop Classification\", Version 1.0, Radiant MLHub. [Date Accessed] https://doi.org/10.34911/RDNT.EII04X\n",
            "\n",
            "ID:       bigearthnet_v1_labels\n",
            "License:  CDLA-Permissive-1.0\n",
            "Citation: G. Sumbul, M. Charfuelan, B. Demir, V. Markl, \"BigEarthNet: A Large-Scale Benchmark Archive for Remote Sensing Image Understanding\", IEEE International Geoscience and Remote Sensing Symposium, pp. 5901-5904, Yokohama, Japan, 2019.\n",
            "\n",
            "ID:       bigearthnet_v1_source\n",
            "License:  CDLA-Permissive-1.0\n",
            "Citation: G. Sumbul, M. Charfuelan, B. Demir, V. Markl, \"BigEarthNet: A Large-Scale Benchmark Archive for Remote Sensing Image Understanding\", IEEE International Geoscience and Remote Sensing Symposium, pp. 5901-5904, Yokohama, Japan, 2019.\n",
            "\n",
            "ID:       idiv_asia_crop_type_labels\n",
            "License:  CC-BY-4.0\n",
            "Citation: Remelgado, Ruben; Zaitov, Sherzod; Kenjabaev, Shavkat; Stulina, Galina; Sultanov, Murod; Ibrakhimov, Mirzakhayot; et al. (2020): A crop type dataset for consistent land cover classification in Central Asia. figshare. Dataset. https://doi.org/10.6084/m9.figshare.12047478.v2\n",
            "\n",
            "ID:       ref_african_crops_kenya_02_labels\n",
            "License:  CC-BY-SA-4.0\n",
            "Citation: Radiant Earth Foundation (2020) \"CV4A Competition Kenya Crop Type Dataset\", Version 1.0, Radiant MLHub. [Date Accessed] https://doi.org/10.34911/RDNT.DW605X\n",
            "\n",
            "ID:       ref_african_crops_kenya_02_source\n",
            "License:  CC-BY-SA-4.0\n",
            "Citation: Radiant Earth Foundation (2020) \"CV4A Competition Kenya Crop Type Dataset\", Version 1.0, Radiant MLHub. [Date Accessed] https://doi.org/10.34911/RDNT.DW605X\n",
            "\n",
            "ID:       ref_landcovernet_v1_labels\n",
            "License:  CC-BY-4.0\n",
            "Citation: Alemohammad S.H., Ballantyne A., Bromberg Gaber Y., Booth K., Nakanuku-Diggs L., & Miglarese A.H. (2020) \"LandCoverNet: A Global Land Cover Classification Training Dataset\", Version 1.0, Radiant MLHub. [Date Accessed] https://doi.org/10.34911/rdnt.d2ce8i\n",
            "\n",
            "ID:       ref_landcovernet_v1_source\n",
            "License:  CC-BY-4.0\n",
            "Citation: Alemohammad S.H., Ballantyne A., Bromberg Gaber Y., Booth K., Nakanuku-Diggs L., & Miglarese A.H. (2020) \"LandCoverNet: A Global Land Cover Classification Training Dataset\", Version 1.0, Radiant MLHub. [Date Accessed] https://doi.org/10.34911/rdnt.d2ce8i\n",
            "\n",
            "ID:       microsoft_chesapeake_buildings\n",
            "License:  CDLA-Permissive-1.0\n",
            "Citation: Robinson C, Hou L, Malkin K, Soobitsky R, Czawlytko J, Dilkina B, Jojic N. Large Scale High-Resolution Land Cover Mapping with Multi-Resolution Data. Proceedings of the 2019 Conference on Computer Vision and Pattern Recognition (CVPR 2019).\n",
            "\n",
            "ID:       microsoft_chesapeake_landsat_leaf_off\n",
            "License:  CC-PDDC\n",
            "Citation: Robinson C, Hou L, Malkin K, Soobitsky R, Czawlytko J, Dilkina B, Jojic N. Large Scale High-Resolution Land Cover Mapping with Multi-Resolution Data. Proceedings of the 2019 Conference on Computer Vision and Pattern Recognition (CVPR 2019).\n",
            "\n",
            "ID:       microsoft_chesapeake_landsat_leaf_on\n",
            "License:  CC-PDDC\n",
            "Citation: Robinson C, Hou L, Malkin K, Soobitsky R, Czawlytko J, Dilkina B, Jojic N. Large Scale High-Resolution Land Cover Mapping with Multi-Resolution Data. Proceedings of the 2019 Conference on Computer Vision and Pattern Recognition (CVPR 2019).\n",
            "\n",
            "ID:       microsoft_chesapeake_lc\n",
            "License:  CDLA-Permissive-1.0\n",
            "Citation: Robinson C, Hou L, Malkin K, Soobitsky R, Czawlytko J, Dilkina B, Jojic N. Large Scale High-Resolution Land Cover Mapping with Multi-Resolution Data. Proceedings of the 2019 Conference on Computer Vision and Pattern Recognition (CVPR 2019).\n",
            "\n",
            "ID:       microsoft_chesapeake_naip\n",
            "License:  CC-PDDC\n",
            "Citation: Robinson C, Hou L, Malkin K, Soobitsky R, Czawlytko J, Dilkina B, Jojic N. Large Scale High-Resolution Land Cover Mapping with Multi-Resolution Data. Proceedings of the 2019 Conference on Computer Vision and Pattern Recognition (CVPR 2019).\n",
            "\n",
            "ID:       microsoft_chesapeake_nlcd\n",
            "License:  CDLA-Permissive-1.0\n",
            "Citation: Robinson C, Hou L, Malkin K, Soobitsky R, Czawlytko J, Dilkina B, Jojic N. Large Scale High-Resolution Land Cover Mapping with Multi-Resolution Data. Proceedings of the 2019 Conference on Computer Vision and Pattern Recognition (CVPR 2019).\n",
            "\n",
            "ID:       nasa_tropical_storm_competition_test_labels\n",
            "License:  CC-BY-4.0\n",
            "Citation: M. Maskey, R. Ramachandran, I. Gurung, B. Freitag, M. Ramasubramanian, J. Miller\"Tropical Cyclone Wind Estimation Competition Dataset\", Version 1.0, Radiant MLHub. [Date Accessed] https://doi.org/10.34911/rdnt.xs53up\n",
            "\n",
            "ID:       open_cities_ai_challenge_train_tier_1_source\n",
            "License:  CC-BY-4.0\n",
            "Citation: GFDRR Labs (2020). \"Open Cities AI Challenge Dataset\", Version 1.0, Radiant MLHub. [Date Accessed] https://doi.org/10.34911/rdnt.f94cxb\n",
            "\n",
            "ID:       nasa_tropical_storm_competition_test_source\n",
            "License:  CC-BY-4.0\n",
            "Citation: M. Maskey, R. Ramachandran, I. Gurung, B. Freitag, M. Ramasubramanian, J. Miller\"Tropical Cyclone Wind Estimation Competition Dataset\", Version 1.0, Radiant MLHub. [Date Accessed] https://doi.org/10.34911/rdnt.xs53up\n",
            "\n",
            "ID:       nasa_tropical_storm_competition_train_labels\n",
            "License:  CC-BY-4.0\n",
            "Citation: M. Maskey, R. Ramachandran, I. Gurung, B. Freitag, M. Ramasubramanian, J. Miller\"Tropical Cyclone Wind Estimation Competition Dataset\", Version 1.0, Radiant MLHub. [Date Accessed] https://doi.org/10.34911/rdnt.xs53up\n",
            "\n",
            "ID:       nasa_tropical_storm_competition_train_source\n",
            "License:  CC-BY-4.0\n",
            "Citation: M. Maskey, R. Ramachandran, I. Gurung, B. Freitag, M. Ramasubramanian, J. Miller\"Tropical Cyclone Wind Estimation Competition Dataset\", Version 1.0, Radiant MLHub. [Date Accessed] https://doi.org/10.34911/rdnt.xs53up\n",
            "\n",
            "ID:       open_cities_ai_challenge_test\n",
            "License:  CC-BY-4.0\n",
            "Citation: GFDRR Labs (2020). \"Open Cities AI Challenge Dataset\", Version 1.0, Radiant MLHub. [Date Accessed] https://doi.org/10.34911/rdnt.f94cxb\n",
            "\n",
            "ID:       open_cities_ai_challenge_train_tier_1_labels\n",
            "License:  ODbL-1.0\n",
            "Citation: GFDRR Labs (2020). \"Open Cities AI Challenge Dataset\", Version 1.0, Radiant MLHub. [Date Accessed] https://doi.org/10.34911/rdnt.f94cxb\n",
            "\n",
            "ID:       open_cities_ai_challenge_train_tier_2_labels\n",
            "License:  ODbL-1.0\n",
            "Citation: GFDRR Labs (2020). \"Open Cities AI Challenge Dataset\", Version 1.0, Radiant MLHub. [Date Accessed] https://doi.org/10.34911/rdnt.f94cxb\n",
            "\n",
            "ID:       open_cities_ai_challenge_train_tier_2_source\n",
            "License:  CC-BY-4.0\n",
            "Citation: GFDRR Labs (2020). \"Open Cities AI Challenge Dataset\", Version 1.0, Radiant MLHub. [Date Accessed] https://doi.org/10.34911/rdnt.f94cxb\n",
            "\n",
            "ID:       rti_rwanda_crop_type_labels\n",
            "License:  CC-BY-NC-SA-4.0\n",
            "Citation: Rineer J., Beach R., Lapidus D., O’Neil M., Temple D., Ujeneza N., Cajka J., & Chew R. (2021) “Drone Imagery Classification Training Dataset for Crop Types in Rwanda”, Version 1.0, Radiant MLHub https://doi.org/10.34911/rdnt.r4p1fr\n",
            "\n",
            "ID:       rti_rwanda_crop_type_raw\n",
            "License:  CC-BY-NC-SA-4.0\n",
            "Citation: Rineer J., Beach R., Lapidus D., O’Neil M., Temple D., Ujeneza N., Cajka J., & Chew R. (2021) “Drone Imagery Classification Training Dataset for Crop Types in Rwanda”, Version 1.0, Radiant MLHub https://doi.org/10.34911/rdnt.r4p1fr\n",
            "\n",
            "ID:       sn1_AOI_1_RIO\n",
            "License:  CC-BY-SA-4.0\n",
            "Citation: N/A\n",
            "\n",
            "ID:       rti_rwanda_crop_type_source\n",
            "License:  CC-BY-NC-SA-4.0\n",
            "Citation: Rineer J., Beach R., Lapidus D., O’Neil M., Temple D., Ujeneza N., Cajka J., & Chew R. (2021) “Drone Imagery Classification Training Dataset for Crop Types in Rwanda”, Version 1.0, Radiant MLHub https://doi.org/10.34911/rdnt.r4p1fr\n",
            "\n",
            "ID:       sen12floods_s1_labels\n",
            "License:  CC-BY-4.0\n",
            "Citation: Clément Rambour, Nicolas Audebert, Elise Koeniguer, Bertrand Le Saux, Michel Crucianu, Mihai Datcu, September 14, 2020, \"SEN12-FLOOD : a SAR and Multispectral Dataset for Flood Detection \", IEEE Dataport, doi: https://dx.doi.org/10.21227/w6xz-s898.\n",
            "\n",
            "ID:       sen12floods_s1_source\n",
            "License:  CC-BY-4.0\n",
            "Citation: Clément Rambour, Nicolas Audebert, Elise Koeniguer, Bertrand Le Saux, Michel Crucianu, Mihai Datcu, September 14, 2020, \"SEN12-FLOOD : a SAR and Multispectral Dataset for Flood Detection \", IEEE Dataport, doi: https://dx.doi.org/10.21227/w6xz-s898.\n",
            "\n",
            "ID:       sen12floods_s2_labels\n",
            "License:  CC-BY-4.0\n",
            "Citation: Clément Rambour, Nicolas Audebert, Elise Koeniguer, Bertrand Le Saux, Michel Crucianu, Mihai Datcu, September 14, 2020, \"SEN12-FLOOD : a SAR and Multispectral Dataset for Flood Detection \", IEEE Dataport, doi: https://dx.doi.org/10.21227/w6xz-s898.\n",
            "\n",
            "ID:       sen12floods_s2_source\n",
            "License:  CC-BY-4.0\n",
            "Citation: Clément Rambour, Nicolas Audebert, Elise Koeniguer, Bertrand Le Saux, Michel Crucianu, Mihai Datcu, September 14, 2020, \"SEN12-FLOOD : a SAR and Multispectral Dataset for Flood Detection \", IEEE Dataport, doi: https://dx.doi.org/10.21227/w6xz-s898.\n",
            "\n",
            "ID:       sn2_AOI_3_Paris\n",
            "License:  CC-BY-SA-4.0\n",
            "Citation: N/A\n",
            "\n",
            "ID:       sn2_AOI_4_Shanghai\n",
            "License:  CC-BY-SA-4.0\n",
            "Citation: N/A\n",
            "\n",
            "ID:       sn2_AOI_5_Khartoum\n",
            "License:  CC-BY-SA-4.0\n",
            "Citation: N/A\n",
            "\n",
            "ID:       sn3_AOI_2_Vegas\n",
            "License:  CC-BY-SA-4.0\n",
            "Citation: N/A\n",
            "\n",
            "ID:       sn3_AOI_3_Paris\n",
            "License:  CC-BY-SA-4.0\n",
            "Citation: N/A\n",
            "\n",
            "ID:       sn3_AOI_4_Shanghai\n",
            "License:  CC-BY-SA-4.0\n",
            "Citation: N/A\n",
            "\n",
            "ID:       sn3_AOI_5_Khartoum\n",
            "License:  CC-BY-SA-4.0\n",
            "Citation: N/A\n",
            "\n",
            "ID:       sn4_AOI_6_Atlanta\n",
            "License:  CC-BY-SA-4.0\n",
            "Citation: N/A\n",
            "\n",
            "ID:       sn5_AOI_7_Moscow\n",
            "License:  CC-BY-SA-4.0\n",
            "Citation: N/A\n",
            "\n",
            "ID:       sn5_AOI_8_Mumbai\n",
            "License:  CC-BY-SA-4.0\n",
            "Citation: N/A\n",
            "\n",
            "ID:       sn6_AOI_11_Rotterdam\n",
            "License:  CC-BY-SA-4.0\n",
            "Citation: N/A\n",
            "\n",
            "ID:       sn7_test_source\n",
            "License:  CC-BY-SA-4.0\n",
            "Citation: N/A\n",
            "\n",
            "ID:       sn7_train_labels\n",
            "License:  CC-BY-SA-4.0\n",
            "Citation: N/A\n",
            "\n",
            "ID:       sn7_train_source\n",
            "License:  CC-BY-SA-4.0\n",
            "Citation: N/A\n",
            "\n",
            "ID:       su_african_crops_ghana_labels\n",
            "License:  CC-BY-SA-4.0\n",
            "Citation: Rustowicz R., Cheong R., Wang L., Ermon S., Burke M., Lobell D. (2020) \"Semantic Segmentation of Crop Type in Ghana Dataset\", Version 1.0, Radiant MLHub. [Date Accessed] https://doi.org/10.34911/rdnt.ry138p\n",
            "\n",
            "ID:       su_african_crops_ghana_source_planet\n",
            "License:  CC-BY-SA-4.0\n",
            "Citation: Rustowicz R., Cheong R., Wang L., Ermon S., Burke M., Lobell D. (2020) \"Semantic Segmentation of Crop Type in Ghana Dataset\", Version 1.0, Radiant MLHub. [Date Accessed] https://doi.org/10.34911/rdnt.ry138p\n",
            "\n",
            "ID:       su_african_crops_ghana_source_s1\n",
            "License:  CC-BY-SA-4.0\n",
            "Citation: Rustowicz R., Cheong R., Wang L., Ermon S., Burke M., Lobell D. (2020) \"Semantic Segmentation of Crop Type in Ghana Dataset\", Version 1.0, Radiant MLHub. [Date Accessed] https://doi.org/10.34911/rdnt.ry138p\n",
            "\n",
            "ID:       su_african_crops_ghana_source_s2\n",
            "License:  CC-BY-SA-4.0\n",
            "Citation: Rustowicz R., Cheong R., Wang L., Ermon S., Burke M., Lobell D. (2020) \"Semantic Segmentation of Crop Type in Ghana Dataset\", Version 1.0, Radiant MLHub. [Date Accessed] https://doi.org/10.34911/rdnt.ry138p\n",
            "\n",
            "ID:       su_african_crops_south_sudan_labels\n",
            "License:  CC-BY-SA-4.0\n",
            "Citation: Rustowicz R., Cheong R., Wang L., Ermon S., Burke M., Lobell D. (2020) \"Semantic Segmentation of Crop Type in South Sudan Dataset\", Version 1.0, Radiant MLHub. [Date Accessed] https://doi.org/10.34911/rdnt.v6kx6n\n",
            "\n",
            "ID:       su_african_crops_south_sudan_source_planet\n",
            "License:  CC-BY-SA-4.0\n",
            "Citation: Rustowicz R., Cheong R., Wang L., Ermon S., Burke M., Lobell D. (2020) \"Semantic Segmentation of Crop Type in South Sudan Dataset\", Version 1.0, Radiant MLHub. [Date Accessed] https://doi.org/10.34911/rdnt.v6kx6n\n",
            "\n",
            "ID:       su_african_crops_south_sudan_source_s1\n",
            "License:  CC-BY-SA-4.0\n",
            "Citation: Rustowicz R., Cheong R., Wang L., Ermon S., Burke M., Lobell D. (2020) \"Semantic Segmentation of Crop Type in South Sudan Dataset\", Version 1.0, Radiant MLHub. [Date Accessed] https://doi.org/10.34911/rdnt.v6kx6n\n",
            "\n",
            "ID:       ref_south_africa_crops_competition_v1_test_source_s2\n",
            "License:  CC-BY-4.0\n",
            "Citation: Western Cape Department of Agriculture, Radiant Earth Foundation (2021) \"Crop Type Classification Dataset for Western Cape, South Africa\", Version 1.0, Radiant MLHub, [Date Accessed] https://doi.org/10.34911/rdnt.j0co8q\n",
            "\n",
            "ID:       su_african_crops_south_sudan_source_s2\n",
            "License:  CC-BY-SA-4.0\n",
            "Citation: Rustowicz R., Cheong R., Wang L., Ermon S., Burke M., Lobell D. (2020) \"Semantic Segmentation of Crop Type in South Sudan Dataset\", Version 1.0, Radiant MLHub. [Date Accessed] https://doi.org/10.34911/rdnt.v6kx6n\n",
            "\n",
            "ID:       su_sar_moisture_content\n",
            "License:  CC-BY-NC-ND-4.0\n",
            "Citation: Rao, K., Williams, A.P., Fortin, J. & Konings, A.G. (2020). SAR-enhanced mapping of live fuel moisture content. Remote Sens. Environ., 245.\n",
            "\n",
            "ID:       ts_cashew_benin_labels\n",
            "License:  CC-BY-4.0\n",
            "Citation: Jin Z., Lin C., Weigl C., Obarowski J., & Hale, D. (2021) “Smallholder Cashew Plantations in Benin” Version 1.0, Radiant MLHub. [Date Accessed] https://doi.org/10.34911/rdnt.hfv20i\n",
            "\n",
            "ID:       ts_cashew_benin_source\n",
            "License:  CC-BY-4.0\n",
            "Citation: Jin Z., Lin C., Weigl C., Obarowski J., & Hale, D. (2021) “Smallholder Cashew Plantations in Benin” Version 1.0, Radiant MLHub. [Date Accessed] https://doi.org/10.34911/rdnt.hfv20i\n",
            "\n",
            "ID:       ref_south_africa_crops_competition_v1_test_source_s1\n",
            "License:  CC-BY-4.0\n",
            "Citation: Western Cape Department of Agriculture, Radiant Earth Foundation (2021) \"Crop Type Classification Dataset for Western Cape, South Africa\", Version 1.0, Radiant MLHub, [Date Accessed] https://doi.org/10.34911/rdnt.j0co8q\n",
            "\n",
            "ID:       ref_south_africa_crops_competition_v1_train_source_s1\n",
            "License:  CC-BY-4.0\n",
            "Citation: Western Cape Department of Agriculture, Radiant Earth Foundation (2021) \"Crop Type Classification Dataset for Western Cape, South Africa\", Version 1.0, Radiant MLHub, [Date Accessed] https://doi.org/10.34911/rdnt.j0co8q\n",
            "\n",
            "ID:       ref_south_africa_crops_competition_v1_train_source_s2\n",
            "License:  CC-BY-4.0\n",
            "Citation: Western Cape Department of Agriculture, Radiant Earth Foundation (2021) \"Crop Type Classification Dataset for Western Cape, South Africa\", Version 1.0, Radiant MLHub, [Date Accessed] https://doi.org/10.34911/rdnt.j0co8q\n",
            "\n",
            "ID:       ref_south_africa_crops_competition_v1_test_labels\n",
            "License:  CC-BY-4.0\n",
            "Citation: Western Cape Department of Agriculture, Radiant Earth Foundation (2021) \"Crop Type Classification Dataset for Western Cape, South Africa\", Version 1.0, Radiant MLHub, [Date Accessed] https://doi.org/10.34911/rdnt.j0co8q\n",
            "\n",
            "ID:       ref_south_africa_crops_competition_v1_train_labels\n",
            "License:  CC-BY-4.0\n",
            "Citation: Western Cape Department of Agriculture, Radiant Earth Foundation (2021) \"Crop Type Classification Dataset for Western Cape, South Africa\", Version 1.0, Radiant MLHub, [Date Accessed] https://doi.org/10.34911/rdnt.j0co8q\n",
            "\n"
          ],
          "name": "stdout"
        }
      ]
    },
    {
      "cell_type": "markdown",
      "metadata": {
        "id": "Nvwrqz93qFAC"
      },
      "source": [
        "Collection objects have many other properties besides the ones shown above. The cell below prints the `ref_african_crops_kenya_01_labels` collection object in its entirety."
      ]
    },
    {
      "cell_type": "code",
      "metadata": {
        "id": "sI4Am_KgqFAD",
        "outputId": "7b9b84bb-88d3-4a15-8e6a-f61ce682d924",
        "colab": {
          "base_uri": "https://localhost:8080/"
        }
      },
      "source": [
        "kenya_crops_labels = next(c for c in collections if c['id'] == 'ref_south_africa_crops_competition_v1_train_labels')\n",
        "kenya_crops_labels"
      ],
      "execution_count": 17,
      "outputs": [
        {
          "output_type": "execute_result",
          "data": {
            "text/plain": [
              "{'description': 'Crop Type Classification Dataset for Western Cape, South Africa',\n",
              " 'extent': {'spatial': {'bbox': [[17.818514019575364,\n",
              "     -34.15382764253356,\n",
              "     19.765086593643762,\n",
              "     -30.753864468983238]]},\n",
              "  'temporal': {'interval': [['2017-08-01T00:00:00Z',\n",
              "     '2017-08-01T00:00:00Z']]}},\n",
              " 'id': 'ref_south_africa_crops_competition_v1_train_labels',\n",
              " 'keywords': [],\n",
              " 'license': 'CC-BY-4.0',\n",
              " 'links': [{'href': 'https://api.radiant.earth/mlhub/v1/collections/ref_south_africa_crops_competition_v1_train_labels',\n",
              "   'rel': 'self',\n",
              "   'title': None,\n",
              "   'type': 'application/json'},\n",
              "  {'href': 'https://api.radiant.earth/mlhub/v1',\n",
              "   'rel': 'root',\n",
              "   'title': None,\n",
              "   'type': 'application/json'}],\n",
              " 'properties': {},\n",
              " 'providers': [{'description': None,\n",
              "   'name': 'Radiant Earth Foundation',\n",
              "   'roles': ['licensor', 'host', 'processor'],\n",
              "   'url': 'https://radiant.earth'}],\n",
              " 'sci:citation': 'Western Cape Department of Agriculture, Radiant Earth Foundation (2021) \"Crop Type Classification Dataset for Western Cape, South Africa\", Version 1.0, Radiant MLHub, [Date Accessed] https://doi.org/10.34911/rdnt.j0co8q',\n",
              " 'sci:doi': '10.34911/rdnt.j0co8q',\n",
              " 'stac_extensions': ['scientific'],\n",
              " 'stac_version': '1.0.0-beta.2',\n",
              " 'summaries': {},\n",
              " 'title': None}"
            ]
          },
          "metadata": {
            "tags": []
          },
          "execution_count": 17
        }
      ]
    },
    {
      "cell_type": "markdown",
      "metadata": {
        "id": "hf4X6pziqFAF"
      },
      "source": [
        "## Select an Item\n",
        "\n",
        "Collections have items associated with them that are used to catalog assets (labels or source imagery) for that collection. Collections vary greatly in the number of items associated with them; some may contain only a handful of items, while others may contain hundreds of thousands of items.\n",
        "\n",
        "The following cell uses the `client.list_collection_items` to get the first item in the `ref_african_crops_kenya_01_labels` collection. The `client.list_collection_items` is a Python generator that yields a dictionary for each item in the collection (you can read more about how to use Python generators [here](https://realpython.com/introduction-to-python-generators/))."
      ]
    },
    {
      "cell_type": "code",
      "metadata": {
        "id": "DSSiQ2ZeqFAI",
        "outputId": "da70a0e8-ae7c-418b-b91c-35275b9ac7c3",
        "colab": {
          "base_uri": "https://localhost:8080/"
        }
      },
      "source": [
        "# NOTE: Here we are using using the \"id\" property of the collection that we fetched above as the collection_id \n",
        "#  argument to the list_collection_items function\n",
        "items_iterator = client.list_collection_items(kenya_crops_labels['id'])\n",
        "\n",
        "# Get the first item\n",
        "first_item = next(items_iterator)\n",
        "first_item"
      ],
      "execution_count": 18,
      "outputs": [
        {
          "output_type": "execute_result",
          "data": {
            "text/plain": [
              "{'assets': {'documentation': {'description': None,\n",
              "   'href': 'https://api.radiant.earth/mlhub/v1/download/gAAAAABg40TGphuWgcrIcel_tC7aRo7qFAt_vCKsUZrZjvVo4-vqcr_qSDit5XHjGRVYkY-s0zCp3gf0_EuKqN_GqFuCJJNLodvhLx-DOU8W1dYq5jsvrJEoh4WBvCOiE_f4b-egtqYBPlHqUenqttfTJgTWLJ6CPKdgFs876AzX4V5zsOWePzUwUZ_b_HP4VLFziDmRvytImiCJx_UaBH06XjmoLZ1NekoNsKO-buer3l7ZJZ-WuXdtJvTYQ5cF0dKVcDUejYwOVkLsjafCOuIiGqyVaegXHTtiUFe0SQhAHNqe6me7_2x5dj_b9Zl6eToVTHRD1GNZXz_BtRPcgZsKX9s_9HwCyTNe8Yec_uePoHN3O183894=',\n",
              "   'roles': [],\n",
              "   'title': 'Dataset Documentation',\n",
              "   'type': 'application/pdf'},\n",
              "  'field_ids': {'description': None,\n",
              "   'href': 'https://api.radiant.earth/mlhub/v1/download/gAAAAABg40TG9n_DfXhNb1XmRU_W4Eu7Zg7QTUZ1Wdgo_OXmjZcz6Q5D0uZHlBLA9uTnySlKyjeR25xU_eVuI8-EvbRyi7FpybZb6fHsJYMrVUGGjOyXLpFDrxCiIMr0m2exOMAbCRKro0VGTB5zWJB63sbG_JnKgKPtxEBNmu9xlS0KuzQ6GPtIdINEAgJ-15Y2sIm7So8hGuM_nme2R24hmunnvR2oKxcnCvSTCnuYvAy7iOlerywjDbjwH1NETG57njAXT7Mw7y_wzxYmGIO9whhVT_WAEolFalX3NYPHXS4LoH90VNT3Cuv2EQ8LqLI8FOF3aWCIVjlJh8qAcgoBODZM7GCvsSAUpI2FxNo9mzN_xogEa8d10MoLAZ3WlEcYcyTVjicB',\n",
              "   'roles': [],\n",
              "   'title': 'Field ID Labels',\n",
              "   'type': 'image/tiff; application=geotiff'},\n",
              "  'field_info_train': {'description': None,\n",
              "   'href': 'https://api.radiant.earth/mlhub/v1/download/gAAAAABg40TGNOXnaQsqRwlCXQ3bge0ZcoxGChATtfAmefKt8KKrOyGGvdodJsRErkUL2MJapguItqIEDQi5HD3d4p53actcMtjmf5o720TJlbQsxsZlUF8VxU-UXDpRhyqkvhmi_MFJM5KJWe_gT5t_3fAFTgo8CiHSWniiNVrzp1SbgmHDxF0WmvYzO1hfIqKFtFEzUX7Hjxrc_zojRo-itQBm0L5tJPTAuqWqqf4lElhoVfFHI1qubUdWTO-EheEFH-xDIktbGx8dHw3_V8o-Zx3t4y5YDbMMuZr1i4VHDaAFAM1X5wEF0Haz9HeMekCUFfmQnSWVDpEbatXKcp7Y4GeQPkixiaDp-1X8KjQpDwnpSeNr7iY=',\n",
              "   'roles': [],\n",
              "   'title': 'Field Label List',\n",
              "   'type': 'text/csv'},\n",
              "  'labels': {'description': None,\n",
              "   'href': 'https://api.radiant.earth/mlhub/v1/download/gAAAAABg40TGxyvFg5lVk-JyZFVJPNswAQzbXrKHaof8vHu2BrWOWR06exIQZoz3sRgByZQEwKlj16lSyjbVQUWTyVVRUFJ6WsKATDNLjVnn2dIatfg7Cmorw2YmLvFQW4Ys6FbjoZYg_mPmLFq_RFBoqF8ykqiCrcmDP_pkDxH2KAi5JMmlEYT7S5rmFDnbMnDKjQU0jNbUtpJXAOeOWn7fzcTqg69traFrIM_tFZnZuxFCA8oxN9UP-rWzvZYuH1_KZIfZrDnYWTA-baRqKNMYOptP1kciaMPlaOalyqb516saPrsX2BGjifa105f1_JWcWDDtUSq5akOQhnUkB6wmmVPZZfD2N-L-qwZXXtG-LRtGMxAP_ME=',\n",
              "   'roles': [],\n",
              "   'title': 'Crop Labels',\n",
              "   'type': 'image/tiff; application=geotiff'},\n",
              "  'raster_values': {'description': None,\n",
              "   'href': 'https://api.radiant.earth/mlhub/v1/download/gAAAAABg40TGIhLmHAIGfpQE4BrSOgQH8CawcxXzuroRjZoU5inniNuc4tOy_Z48sGKIKqUpOEPKPBbvoF79_O7FkOANoFQfStuZdkIjodxENcNib97GVNkwcpJk9lerHbfm9toeCJS-Iq-PnxFVleH55uwA1N_RvzseolmdMwN4lwla9DILDO7HUob0GSXiUStEApCTdVm_ntmXYkEg0GooNWoIZ5_y7jkscGGFjo3jqXOw_qoJWPdkgMLVkps8YpP8iXjzOscYL7nvgdMfTcYo-XSZosd4AB55u12HSAbPLgiIO06fI5c9UUof3-kg1K1aIr2gw6zZUfFIZP-Pb1o8Qtm4LHAoMfCK5DPv2wrfEdS1jKAhqr8=',\n",
              "   'roles': [],\n",
              "   'title': 'Raster Crop Type Mapping',\n",
              "   'type': 'application/json'}},\n",
              " 'bbox': [18.539506759600922,\n",
              "  -33.77762478387399,\n",
              "  18.56778298900056,\n",
              "  -33.7540088140598],\n",
              " 'collection': 'ref_south_africa_crops_competition_v1_train_labels',\n",
              " 'geometry': {'coordinates': [[[18.539506759600922, -33.77707678034117],\n",
              "    [18.56713082282756, -33.77762478387399],\n",
              "    [18.56778298900056, -33.75455634301551],\n",
              "    [18.540166312701263, -33.7540088140598],\n",
              "    [18.539506759600922, -33.77707678034117]]],\n",
              "  'type': 'Polygon'},\n",
              " 'id': 'ref_south_africa_crops_competition_v1_train_labels_2371',\n",
              " 'links': [{'href': 'https://api.radiant.earth/mlhub/v1/collections/ref_south_africa_crops_competition_v1_train_labels',\n",
              "   'rel': 'parent',\n",
              "   'title': 'Parent collection',\n",
              "   'type': 'application/json'},\n",
              "  {'href': 'https://api.radiant.earth/mlhub/v1/collections/ref_south_africa_crops_competition_v1_train_source_s1/items/ref_south_africa_crops_competition_v1_train_source_s1_2371_2017_04_01',\n",
              "   'rel': 'source',\n",
              "   'title': None,\n",
              "   'type': 'application/json',\n",
              "   'validation:attemptedExtensions': ['label'],\n",
              "   'validation:errors': ['.label:assets']},\n",
              "  {'href': 'https://api.radiant.earth/mlhub/v1/collections/ref_south_africa_crops_competition_v1_train_source_s1/items/ref_south_africa_crops_competition_v1_train_source_s1_2371_2017_04_06',\n",
              "   'rel': 'source',\n",
              "   'title': None,\n",
              "   'type': 'application/json',\n",
              "   'validation:attemptedExtensions': ['label'],\n",
              "   'validation:errors': ['.label:assets']},\n",
              "  {'href': 'https://api.radiant.earth/mlhub/v1/collections/ref_south_africa_crops_competition_v1_train_source_s1/items/ref_south_africa_crops_competition_v1_train_source_s1_2371_2017_04_13',\n",
              "   'rel': 'source',\n",
              "   'title': None,\n",
              "   'type': 'application/json',\n",
              "   'validation:attemptedExtensions': ['label'],\n",
              "   'validation:errors': ['.label:assets']},\n",
              "  {'href': 'https://api.radiant.earth/mlhub/v1/collections/ref_south_africa_crops_competition_v1_train_source_s1/items/ref_south_africa_crops_competition_v1_train_source_s1_2371_2017_04_18',\n",
              "   'rel': 'source',\n",
              "   'title': None,\n",
              "   'type': 'application/json',\n",
              "   'validation:attemptedExtensions': ['label'],\n",
              "   'validation:errors': ['.label:assets']},\n",
              "  {'href': 'https://api.radiant.earth/mlhub/v1/collections/ref_south_africa_crops_competition_v1_train_source_s1/items/ref_south_africa_crops_competition_v1_train_source_s1_2371_2017_04_25',\n",
              "   'rel': 'source',\n",
              "   'title': None,\n",
              "   'type': 'application/json',\n",
              "   'validation:attemptedExtensions': ['label'],\n",
              "   'validation:errors': ['.label:assets']},\n",
              "  {'href': 'https://api.radiant.earth/mlhub/v1/collections/ref_south_africa_crops_competition_v1_train_source_s1/items/ref_south_africa_crops_competition_v1_train_source_s1_2371_2017_04_30',\n",
              "   'rel': 'source',\n",
              "   'title': None,\n",
              "   'type': 'application/json',\n",
              "   'validation:attemptedExtensions': ['label'],\n",
              "   'validation:errors': ['.label:assets']},\n",
              "  {'href': 'https://api.radiant.earth/mlhub/v1/collections/ref_south_africa_crops_competition_v1_train_source_s1/items/ref_south_africa_crops_competition_v1_train_source_s1_2371_2017_05_07',\n",
              "   'rel': 'source',\n",
              "   'title': None,\n",
              "   'type': 'application/json',\n",
              "   'validation:attemptedExtensions': ['label'],\n",
              "   'validation:errors': ['.label:assets']},\n",
              "  {'href': 'https://api.radiant.earth/mlhub/v1/collections/ref_south_africa_crops_competition_v1_train_source_s1/items/ref_south_africa_crops_competition_v1_train_source_s1_2371_2017_05_12',\n",
              "   'rel': 'source',\n",
              "   'title': None,\n",
              "   'type': 'application/json',\n",
              "   'validation:attemptedExtensions': ['label'],\n",
              "   'validation:errors': ['.label:assets']},\n",
              "  {'href': 'https://api.radiant.earth/mlhub/v1/collections/ref_south_africa_crops_competition_v1_train_source_s1/items/ref_south_africa_crops_competition_v1_train_source_s1_2371_2017_05_19',\n",
              "   'rel': 'source',\n",
              "   'title': None,\n",
              "   'type': 'application/json',\n",
              "   'validation:attemptedExtensions': ['label'],\n",
              "   'validation:errors': ['.label:assets']},\n",
              "  {'href': 'https://api.radiant.earth/mlhub/v1/collections/ref_south_africa_crops_competition_v1_train_source_s1/items/ref_south_africa_crops_competition_v1_train_source_s1_2371_2017_05_24',\n",
              "   'rel': 'source',\n",
              "   'title': None,\n",
              "   'type': 'application/json',\n",
              "   'validation:attemptedExtensions': ['label'],\n",
              "   'validation:errors': ['.label:assets']},\n",
              "  {'href': 'https://api.radiant.earth/mlhub/v1/collections/ref_south_africa_crops_competition_v1_train_source_s1/items/ref_south_africa_crops_competition_v1_train_source_s1_2371_2017_05_31',\n",
              "   'rel': 'source',\n",
              "   'title': None,\n",
              "   'type': 'application/json',\n",
              "   'validation:attemptedExtensions': ['label'],\n",
              "   'validation:errors': ['.label:assets']},\n",
              "  {'href': 'https://api.radiant.earth/mlhub/v1/collections/ref_south_africa_crops_competition_v1_train_source_s1/items/ref_south_africa_crops_competition_v1_train_source_s1_2371_2017_06_05',\n",
              "   'rel': 'source',\n",
              "   'title': None,\n",
              "   'type': 'application/json',\n",
              "   'validation:attemptedExtensions': ['label'],\n",
              "   'validation:errors': ['.label:assets']},\n",
              "  {'href': 'https://api.radiant.earth/mlhub/v1/collections/ref_south_africa_crops_competition_v1_train_source_s1/items/ref_south_africa_crops_competition_v1_train_source_s1_2371_2017_06_12',\n",
              "   'rel': 'source',\n",
              "   'title': None,\n",
              "   'type': 'application/json',\n",
              "   'validation:attemptedExtensions': ['label'],\n",
              "   'validation:errors': ['.label:assets']},\n",
              "  {'href': 'https://api.radiant.earth/mlhub/v1/collections/ref_south_africa_crops_competition_v1_train_source_s1/items/ref_south_africa_crops_competition_v1_train_source_s1_2371_2017_06_17',\n",
              "   'rel': 'source',\n",
              "   'title': None,\n",
              "   'type': 'application/json',\n",
              "   'validation:attemptedExtensions': ['label'],\n",
              "   'validation:errors': ['.label:assets']},\n",
              "  {'href': 'https://api.radiant.earth/mlhub/v1/collections/ref_south_africa_crops_competition_v1_train_source_s1/items/ref_south_africa_crops_competition_v1_train_source_s1_2371_2017_06_24',\n",
              "   'rel': 'source',\n",
              "   'title': None,\n",
              "   'type': 'application/json',\n",
              "   'validation:attemptedExtensions': ['label'],\n",
              "   'validation:errors': ['.label:assets']},\n",
              "  {'href': 'https://api.radiant.earth/mlhub/v1/collections/ref_south_africa_crops_competition_v1_train_source_s1/items/ref_south_africa_crops_competition_v1_train_source_s1_2371_2017_06_29',\n",
              "   'rel': 'source',\n",
              "   'title': None,\n",
              "   'type': 'application/json',\n",
              "   'validation:attemptedExtensions': ['label'],\n",
              "   'validation:errors': ['.label:assets']},\n",
              "  {'href': 'https://api.radiant.earth/mlhub/v1/collections/ref_south_africa_crops_competition_v1_train_source_s1/items/ref_south_africa_crops_competition_v1_train_source_s1_2371_2017_07_06',\n",
              "   'rel': 'source',\n",
              "   'title': None,\n",
              "   'type': 'application/json',\n",
              "   'validation:attemptedExtensions': ['label'],\n",
              "   'validation:errors': ['.label:assets']},\n",
              "  {'href': 'https://api.radiant.earth/mlhub/v1/collections/ref_south_africa_crops_competition_v1_train_source_s1/items/ref_south_africa_crops_competition_v1_train_source_s1_2371_2017_07_11',\n",
              "   'rel': 'source',\n",
              "   'title': None,\n",
              "   'type': 'application/json',\n",
              "   'validation:attemptedExtensions': ['label'],\n",
              "   'validation:errors': ['.label:assets']},\n",
              "  {'href': 'https://api.radiant.earth/mlhub/v1/collections/ref_south_africa_crops_competition_v1_train_source_s1/items/ref_south_africa_crops_competition_v1_train_source_s1_2371_2017_07_18',\n",
              "   'rel': 'source',\n",
              "   'title': None,\n",
              "   'type': 'application/json',\n",
              "   'validation:attemptedExtensions': ['label'],\n",
              "   'validation:errors': ['.label:assets']},\n",
              "  {'href': 'https://api.radiant.earth/mlhub/v1/collections/ref_south_africa_crops_competition_v1_train_source_s1/items/ref_south_africa_crops_competition_v1_train_source_s1_2371_2017_07_23',\n",
              "   'rel': 'source',\n",
              "   'title': None,\n",
              "   'type': 'application/json',\n",
              "   'validation:attemptedExtensions': ['label'],\n",
              "   'validation:errors': ['.label:assets']},\n",
              "  {'href': 'https://api.radiant.earth/mlhub/v1/collections/ref_south_africa_crops_competition_v1_train_source_s1/items/ref_south_africa_crops_competition_v1_train_source_s1_2371_2017_07_30',\n",
              "   'rel': 'source',\n",
              "   'title': None,\n",
              "   'type': 'application/json',\n",
              "   'validation:attemptedExtensions': ['label'],\n",
              "   'validation:errors': ['.label:assets']},\n",
              "  {'href': 'https://api.radiant.earth/mlhub/v1/collections/ref_south_africa_crops_competition_v1_train_source_s1/items/ref_south_africa_crops_competition_v1_train_source_s1_2371_2017_08_04',\n",
              "   'rel': 'source',\n",
              "   'title': None,\n",
              "   'type': 'application/json',\n",
              "   'validation:attemptedExtensions': ['label'],\n",
              "   'validation:errors': ['.label:assets']},\n",
              "  {'href': 'https://api.radiant.earth/mlhub/v1/collections/ref_south_africa_crops_competition_v1_train_source_s1/items/ref_south_africa_crops_competition_v1_train_source_s1_2371_2017_08_11',\n",
              "   'rel': 'source',\n",
              "   'title': None,\n",
              "   'type': 'application/json',\n",
              "   'validation:attemptedExtensions': ['label'],\n",
              "   'validation:errors': ['.label:assets']},\n",
              "  {'href': 'https://api.radiant.earth/mlhub/v1/collections/ref_south_africa_crops_competition_v1_train_source_s1/items/ref_south_africa_crops_competition_v1_train_source_s1_2371_2017_08_16',\n",
              "   'rel': 'source',\n",
              "   'title': None,\n",
              "   'type': 'application/json',\n",
              "   'validation:attemptedExtensions': ['label'],\n",
              "   'validation:errors': ['.label:assets']},\n",
              "  {'href': 'https://api.radiant.earth/mlhub/v1/collections/ref_south_africa_crops_competition_v1_train_source_s1/items/ref_south_africa_crops_competition_v1_train_source_s1_2371_2017_08_23',\n",
              "   'rel': 'source',\n",
              "   'title': None,\n",
              "   'type': 'application/json',\n",
              "   'validation:attemptedExtensions': ['label'],\n",
              "   'validation:errors': ['.label:assets']},\n",
              "  {'href': 'https://api.radiant.earth/mlhub/v1/collections/ref_south_africa_crops_competition_v1_train_source_s1/items/ref_south_africa_crops_competition_v1_train_source_s1_2371_2017_08_28',\n",
              "   'rel': 'source',\n",
              "   'title': None,\n",
              "   'type': 'application/json',\n",
              "   'validation:attemptedExtensions': ['label'],\n",
              "   'validation:errors': ['.label:assets']},\n",
              "  {'href': 'https://api.radiant.earth/mlhub/v1/collections/ref_south_africa_crops_competition_v1_train_source_s1/items/ref_south_africa_crops_competition_v1_train_source_s1_2371_2017_09_04',\n",
              "   'rel': 'source',\n",
              "   'title': None,\n",
              "   'type': 'application/json',\n",
              "   'validation:attemptedExtensions': ['label'],\n",
              "   'validation:errors': ['.label:assets']},\n",
              "  {'href': 'https://api.radiant.earth/mlhub/v1/collections/ref_south_africa_crops_competition_v1_train_source_s1/items/ref_south_africa_crops_competition_v1_train_source_s1_2371_2017_09_09',\n",
              "   'rel': 'source',\n",
              "   'title': None,\n",
              "   'type': 'application/json',\n",
              "   'validation:attemptedExtensions': ['label'],\n",
              "   'validation:errors': ['.label:assets']},\n",
              "  {'href': 'https://api.radiant.earth/mlhub/v1/collections/ref_south_africa_crops_competition_v1_train_source_s1/items/ref_south_africa_crops_competition_v1_train_source_s1_2371_2017_09_16',\n",
              "   'rel': 'source',\n",
              "   'title': None,\n",
              "   'type': 'application/json',\n",
              "   'validation:attemptedExtensions': ['label'],\n",
              "   'validation:errors': ['.label:assets']},\n",
              "  {'href': 'https://api.radiant.earth/mlhub/v1/collections/ref_south_africa_crops_competition_v1_train_source_s1/items/ref_south_africa_crops_competition_v1_train_source_s1_2371_2017_09_21',\n",
              "   'rel': 'source',\n",
              "   'title': None,\n",
              "   'type': 'application/json',\n",
              "   'validation:attemptedExtensions': ['label'],\n",
              "   'validation:errors': ['.label:assets']},\n",
              "  {'href': 'https://api.radiant.earth/mlhub/v1/collections/ref_south_africa_crops_competition_v1_train_source_s1/items/ref_south_africa_crops_competition_v1_train_source_s1_2371_2017_09_28',\n",
              "   'rel': 'source',\n",
              "   'title': None,\n",
              "   'type': 'application/json',\n",
              "   'validation:attemptedExtensions': ['label'],\n",
              "   'validation:errors': ['.label:assets']},\n",
              "  {'href': 'https://api.radiant.earth/mlhub/v1/collections/ref_south_africa_crops_competition_v1_train_source_s1/items/ref_south_africa_crops_competition_v1_train_source_s1_2371_2017_10_03',\n",
              "   'rel': 'source',\n",
              "   'title': None,\n",
              "   'type': 'application/json',\n",
              "   'validation:attemptedExtensions': ['label'],\n",
              "   'validation:errors': ['.label:assets']},\n",
              "  {'href': 'https://api.radiant.earth/mlhub/v1/collections/ref_south_africa_crops_competition_v1_train_source_s1/items/ref_south_africa_crops_competition_v1_train_source_s1_2371_2017_10_10',\n",
              "   'rel': 'source',\n",
              "   'title': None,\n",
              "   'type': 'application/json',\n",
              "   'validation:attemptedExtensions': ['label'],\n",
              "   'validation:errors': ['.label:assets']},\n",
              "  {'href': 'https://api.radiant.earth/mlhub/v1/collections/ref_south_africa_crops_competition_v1_train_source_s1/items/ref_south_africa_crops_competition_v1_train_source_s1_2371_2017_10_15',\n",
              "   'rel': 'source',\n",
              "   'title': None,\n",
              "   'type': 'application/json',\n",
              "   'validation:attemptedExtensions': ['label'],\n",
              "   'validation:errors': ['.label:assets']},\n",
              "  {'href': 'https://api.radiant.earth/mlhub/v1/collections/ref_south_africa_crops_competition_v1_train_source_s1/items/ref_south_africa_crops_competition_v1_train_source_s1_2371_2017_10_22',\n",
              "   'rel': 'source',\n",
              "   'title': None,\n",
              "   'type': 'application/json',\n",
              "   'validation:attemptedExtensions': ['label'],\n",
              "   'validation:errors': ['.label:assets']},\n",
              "  {'href': 'https://api.radiant.earth/mlhub/v1/collections/ref_south_africa_crops_competition_v1_train_source_s1/items/ref_south_africa_crops_competition_v1_train_source_s1_2371_2017_10_27',\n",
              "   'rel': 'source',\n",
              "   'title': None,\n",
              "   'type': 'application/json',\n",
              "   'validation:attemptedExtensions': ['label'],\n",
              "   'validation:errors': ['.label:assets']},\n",
              "  {'href': 'https://api.radiant.earth/mlhub/v1/collections/ref_south_africa_crops_competition_v1_train_source_s1/items/ref_south_africa_crops_competition_v1_train_source_s1_2371_2017_11_03',\n",
              "   'rel': 'source',\n",
              "   'title': None,\n",
              "   'type': 'application/json',\n",
              "   'validation:attemptedExtensions': ['label'],\n",
              "   'validation:errors': ['.label:assets']},\n",
              "  {'href': 'https://api.radiant.earth/mlhub/v1/collections/ref_south_africa_crops_competition_v1_train_source_s1/items/ref_south_africa_crops_competition_v1_train_source_s1_2371_2017_11_08',\n",
              "   'rel': 'source',\n",
              "   'title': None,\n",
              "   'type': 'application/json',\n",
              "   'validation:attemptedExtensions': ['label'],\n",
              "   'validation:errors': ['.label:assets']},\n",
              "  {'href': 'https://api.radiant.earth/mlhub/v1/collections/ref_south_africa_crops_competition_v1_train_source_s1/items/ref_south_africa_crops_competition_v1_train_source_s1_2371_2017_11_15',\n",
              "   'rel': 'source',\n",
              "   'title': None,\n",
              "   'type': 'application/json',\n",
              "   'validation:attemptedExtensions': ['label'],\n",
              "   'validation:errors': ['.label:assets']},\n",
              "  {'href': 'https://api.radiant.earth/mlhub/v1/collections/ref_south_africa_crops_competition_v1_train_source_s1/items/ref_south_africa_crops_competition_v1_train_source_s1_2371_2017_11_20',\n",
              "   'rel': 'source',\n",
              "   'title': None,\n",
              "   'type': 'application/json',\n",
              "   'validation:attemptedExtensions': ['label'],\n",
              "   'validation:errors': ['.label:assets']},\n",
              "  {'href': 'https://api.radiant.earth/mlhub/v1/collections/ref_south_africa_crops_competition_v1_train_source_s1/items/ref_south_africa_crops_competition_v1_train_source_s1_2371_2017_11_27',\n",
              "   'rel': 'source',\n",
              "   'title': None,\n",
              "   'type': 'application/json',\n",
              "   'validation:attemptedExtensions': ['label'],\n",
              "   'validation:errors': ['.label:assets']},\n",
              "  {'href': 'https://api.radiant.earth/mlhub/v1/collections/ref_south_africa_crops_competition_v1_train_source_s2/items/ref_south_africa_crops_competition_v1_train_source_s2_2371_2017_04_01',\n",
              "   'rel': 'source',\n",
              "   'title': None,\n",
              "   'type': 'application/json',\n",
              "   'validation:attemptedExtensions': ['label'],\n",
              "   'validation:errors': ['.label:assets']},\n",
              "  {'href': 'https://api.radiant.earth/mlhub/v1/collections/ref_south_africa_crops_competition_v1_train_source_s2/items/ref_south_africa_crops_competition_v1_train_source_s2_2371_2017_04_11',\n",
              "   'rel': 'source',\n",
              "   'title': None,\n",
              "   'type': 'application/json',\n",
              "   'validation:attemptedExtensions': ['label'],\n",
              "   'validation:errors': ['.label:assets']},\n",
              "  {'href': 'https://api.radiant.earth/mlhub/v1/collections/ref_south_africa_crops_competition_v1_train_source_s2/items/ref_south_africa_crops_competition_v1_train_source_s2_2371_2017_04_21',\n",
              "   'rel': 'source',\n",
              "   'title': None,\n",
              "   'type': 'application/json',\n",
              "   'validation:attemptedExtensions': ['label'],\n",
              "   'validation:errors': ['.label:assets']},\n",
              "  {'href': 'https://api.radiant.earth/mlhub/v1/collections/ref_south_africa_crops_competition_v1_train_source_s2/items/ref_south_africa_crops_competition_v1_train_source_s2_2371_2017_05_01',\n",
              "   'rel': 'source',\n",
              "   'title': None,\n",
              "   'type': 'application/json',\n",
              "   'validation:attemptedExtensions': ['label'],\n",
              "   'validation:errors': ['.label:assets']},\n",
              "  {'href': 'https://api.radiant.earth/mlhub/v1/collections/ref_south_africa_crops_competition_v1_train_source_s2/items/ref_south_africa_crops_competition_v1_train_source_s2_2371_2017_05_11',\n",
              "   'rel': 'source',\n",
              "   'title': None,\n",
              "   'type': 'application/json',\n",
              "   'validation:attemptedExtensions': ['label'],\n",
              "   'validation:errors': ['.label:assets']},\n",
              "  {'href': 'https://api.radiant.earth/mlhub/v1/collections/ref_south_africa_crops_competition_v1_train_source_s2/items/ref_south_africa_crops_competition_v1_train_source_s2_2371_2017_05_21',\n",
              "   'rel': 'source',\n",
              "   'title': None,\n",
              "   'type': 'application/json',\n",
              "   'validation:attemptedExtensions': ['label'],\n",
              "   'validation:errors': ['.label:assets']},\n",
              "  {'href': 'https://api.radiant.earth/mlhub/v1/collections/ref_south_africa_crops_competition_v1_train_source_s2/items/ref_south_africa_crops_competition_v1_train_source_s2_2371_2017_05_31',\n",
              "   'rel': 'source',\n",
              "   'title': None,\n",
              "   'type': 'application/json',\n",
              "   'validation:attemptedExtensions': ['label'],\n",
              "   'validation:errors': ['.label:assets']},\n",
              "  {'href': 'https://api.radiant.earth/mlhub/v1/collections/ref_south_africa_crops_competition_v1_train_source_s2/items/ref_south_africa_crops_competition_v1_train_source_s2_2371_2017_06_10',\n",
              "   'rel': 'source',\n",
              "   'title': None,\n",
              "   'type': 'application/json',\n",
              "   'validation:attemptedExtensions': ['label'],\n",
              "   'validation:errors': ['.label:assets']},\n",
              "  {'href': 'https://api.radiant.earth/mlhub/v1/collections/ref_south_africa_crops_competition_v1_train_source_s2/items/ref_south_africa_crops_competition_v1_train_source_s2_2371_2017_06_20',\n",
              "   'rel': 'source',\n",
              "   'title': None,\n",
              "   'type': 'application/json',\n",
              "   'validation:attemptedExtensions': ['label'],\n",
              "   'validation:errors': ['.label:assets']},\n",
              "  {'href': 'https://api.radiant.earth/mlhub/v1/collections/ref_south_africa_crops_competition_v1_train_source_s2/items/ref_south_africa_crops_competition_v1_train_source_s2_2371_2017_06_30',\n",
              "   'rel': 'source',\n",
              "   'title': None,\n",
              "   'type': 'application/json',\n",
              "   'validation:attemptedExtensions': ['label'],\n",
              "   'validation:errors': ['.label:assets']},\n",
              "  {'href': 'https://api.radiant.earth/mlhub/v1/collections/ref_south_africa_crops_competition_v1_train_source_s2/items/ref_south_africa_crops_competition_v1_train_source_s2_2371_2017_07_05',\n",
              "   'rel': 'source',\n",
              "   'title': None,\n",
              "   'type': 'application/json',\n",
              "   'validation:attemptedExtensions': ['label'],\n",
              "   'validation:errors': ['.label:assets']},\n",
              "  {'href': 'https://api.radiant.earth/mlhub/v1/collections/ref_south_africa_crops_competition_v1_train_source_s2/items/ref_south_africa_crops_competition_v1_train_source_s2_2371_2017_07_10',\n",
              "   'rel': 'source',\n",
              "   'title': None,\n",
              "   'type': 'application/json',\n",
              "   'validation:attemptedExtensions': ['label'],\n",
              "   'validation:errors': ['.label:assets']},\n",
              "  {'href': 'https://api.radiant.earth/mlhub/v1/collections/ref_south_africa_crops_competition_v1_train_source_s2/items/ref_south_africa_crops_competition_v1_train_source_s2_2371_2017_07_15',\n",
              "   'rel': 'source',\n",
              "   'title': None,\n",
              "   'type': 'application/json',\n",
              "   'validation:attemptedExtensions': ['label'],\n",
              "   'validation:errors': ['.label:assets']},\n",
              "  {'href': 'https://api.radiant.earth/mlhub/v1/collections/ref_south_africa_crops_competition_v1_train_source_s2/items/ref_south_africa_crops_competition_v1_train_source_s2_2371_2017_07_20',\n",
              "   'rel': 'source',\n",
              "   'title': None,\n",
              "   'type': 'application/json',\n",
              "   'validation:attemptedExtensions': ['label'],\n",
              "   'validation:errors': ['.label:assets']},\n",
              "  {'href': 'https://api.radiant.earth/mlhub/v1/collections/ref_south_africa_crops_competition_v1_train_source_s2/items/ref_south_africa_crops_competition_v1_train_source_s2_2371_2017_07_25',\n",
              "   'rel': 'source',\n",
              "   'title': None,\n",
              "   'type': 'application/json',\n",
              "   'validation:attemptedExtensions': ['label'],\n",
              "   'validation:errors': ['.label:assets']},\n",
              "  {'href': 'https://api.radiant.earth/mlhub/v1/collections/ref_south_africa_crops_competition_v1_train_source_s2/items/ref_south_africa_crops_competition_v1_train_source_s2_2371_2017_07_30',\n",
              "   'rel': 'source',\n",
              "   'title': None,\n",
              "   'type': 'application/json',\n",
              "   'validation:attemptedExtensions': ['label'],\n",
              "   'validation:errors': ['.label:assets']},\n",
              "  {'href': 'https://api.radiant.earth/mlhub/v1/collections/ref_south_africa_crops_competition_v1_train_source_s2/items/ref_south_africa_crops_competition_v1_train_source_s2_2371_2017_08_04',\n",
              "   'rel': 'source',\n",
              "   'title': None,\n",
              "   'type': 'application/json',\n",
              "   'validation:attemptedExtensions': ['label'],\n",
              "   'validation:errors': ['.label:assets']},\n",
              "  {'href': 'https://api.radiant.earth/mlhub/v1/collections/ref_south_africa_crops_competition_v1_train_source_s2/items/ref_south_africa_crops_competition_v1_train_source_s2_2371_2017_08_09',\n",
              "   'rel': 'source',\n",
              "   'title': None,\n",
              "   'type': 'application/json',\n",
              "   'validation:attemptedExtensions': ['label'],\n",
              "   'validation:errors': ['.label:assets']},\n",
              "  {'href': 'https://api.radiant.earth/mlhub/v1/collections/ref_south_africa_crops_competition_v1_train_source_s2/items/ref_south_africa_crops_competition_v1_train_source_s2_2371_2017_08_14',\n",
              "   'rel': 'source',\n",
              "   'title': None,\n",
              "   'type': 'application/json',\n",
              "   'validation:attemptedExtensions': ['label'],\n",
              "   'validation:errors': ['.label:assets']},\n",
              "  {'href': 'https://api.radiant.earth/mlhub/v1/collections/ref_south_africa_crops_competition_v1_train_source_s2/items/ref_south_africa_crops_competition_v1_train_source_s2_2371_2017_08_19',\n",
              "   'rel': 'source',\n",
              "   'title': None,\n",
              "   'type': 'application/json',\n",
              "   'validation:attemptedExtensions': ['label'],\n",
              "   'validation:errors': ['.label:assets']},\n",
              "  {'href': 'https://api.radiant.earth/mlhub/v1/collections/ref_south_africa_crops_competition_v1_train_source_s2/items/ref_south_africa_crops_competition_v1_train_source_s2_2371_2017_08_24',\n",
              "   'rel': 'source',\n",
              "   'title': None,\n",
              "   'type': 'application/json',\n",
              "   'validation:attemptedExtensions': ['label'],\n",
              "   'validation:errors': ['.label:assets']},\n",
              "  {'href': 'https://api.radiant.earth/mlhub/v1/collections/ref_south_africa_crops_competition_v1_train_source_s2/items/ref_south_africa_crops_competition_v1_train_source_s2_2371_2017_08_29',\n",
              "   'rel': 'source',\n",
              "   'title': None,\n",
              "   'type': 'application/json',\n",
              "   'validation:attemptedExtensions': ['label'],\n",
              "   'validation:errors': ['.label:assets']},\n",
              "  {'href': 'https://api.radiant.earth/mlhub/v1/collections/ref_south_africa_crops_competition_v1_train_source_s2/items/ref_south_africa_crops_competition_v1_train_source_s2_2371_2017_09_08',\n",
              "   'rel': 'source',\n",
              "   'title': None,\n",
              "   'type': 'application/json',\n",
              "   'validation:attemptedExtensions': ['label'],\n",
              "   'validation:errors': ['.label:assets']},\n",
              "  {'href': 'https://api.radiant.earth/mlhub/v1/collections/ref_south_africa_crops_competition_v1_train_source_s2/items/ref_south_africa_crops_competition_v1_train_source_s2_2371_2017_09_18',\n",
              "   'rel': 'source',\n",
              "   'title': None,\n",
              "   'type': 'application/json',\n",
              "   'validation:attemptedExtensions': ['label'],\n",
              "   'validation:errors': ['.label:assets']},\n",
              "  {'href': 'https://api.radiant.earth/mlhub/v1/collections/ref_south_africa_crops_competition_v1_train_source_s2/items/ref_south_africa_crops_competition_v1_train_source_s2_2371_2017_09_23',\n",
              "   'rel': 'source',\n",
              "   'title': None,\n",
              "   'type': 'application/json',\n",
              "   'validation:attemptedExtensions': ['label'],\n",
              "   'validation:errors': ['.label:assets']},\n",
              "  {'href': 'https://api.radiant.earth/mlhub/v1/collections/ref_south_africa_crops_competition_v1_train_source_s2/items/ref_south_africa_crops_competition_v1_train_source_s2_2371_2017_09_28',\n",
              "   'rel': 'source',\n",
              "   'title': None,\n",
              "   'type': 'application/json',\n",
              "   'validation:attemptedExtensions': ['label'],\n",
              "   'validation:errors': ['.label:assets']},\n",
              "  {'href': 'https://api.radiant.earth/mlhub/v1/collections/ref_south_africa_crops_competition_v1_train_source_s2/items/ref_south_africa_crops_competition_v1_train_source_s2_2371_2017_10_03',\n",
              "   'rel': 'source',\n",
              "   'title': None,\n",
              "   'type': 'application/json',\n",
              "   'validation:attemptedExtensions': ['label'],\n",
              "   'validation:errors': ['.label:assets']},\n",
              "  {'href': 'https://api.radiant.earth/mlhub/v1/collections/ref_south_africa_crops_competition_v1_train_source_s2/items/ref_south_africa_crops_competition_v1_train_source_s2_2371_2017_10_08',\n",
              "   'rel': 'source',\n",
              "   'title': None,\n",
              "   'type': 'application/json',\n",
              "   'validation:attemptedExtensions': ['label'],\n",
              "   'validation:errors': ['.label:assets']},\n",
              "  {'href': 'https://api.radiant.earth/mlhub/v1/collections/ref_south_africa_crops_competition_v1_train_source_s2/items/ref_south_africa_crops_competition_v1_train_source_s2_2371_2017_10_13',\n",
              "   'rel': 'source',\n",
              "   'title': None,\n",
              "   'type': 'application/json',\n",
              "   'validation:attemptedExtensions': ['label'],\n",
              "   'validation:errors': ['.label:assets']},\n",
              "  {'href': 'https://api.radiant.earth/mlhub/v1/collections/ref_south_africa_crops_competition_v1_train_source_s2/items/ref_south_africa_crops_competition_v1_train_source_s2_2371_2017_10_18',\n",
              "   'rel': 'source',\n",
              "   'title': None,\n",
              "   'type': 'application/json',\n",
              "   'validation:attemptedExtensions': ['label'],\n",
              "   'validation:errors': ['.label:assets']},\n",
              "  {'href': 'https://api.radiant.earth/mlhub/v1/collections/ref_south_africa_crops_competition_v1_train_source_s2/items/ref_south_africa_crops_competition_v1_train_source_s2_2371_2017_10_23',\n",
              "   'rel': 'source',\n",
              "   'title': None,\n",
              "   'type': 'application/json',\n",
              "   'validation:attemptedExtensions': ['label'],\n",
              "   'validation:errors': ['.label:assets']},\n",
              "  {'href': 'https://api.radiant.earth/mlhub/v1/collections/ref_south_africa_crops_competition_v1_train_source_s2/items/ref_south_africa_crops_competition_v1_train_source_s2_2371_2017_10_28',\n",
              "   'rel': 'source',\n",
              "   'title': None,\n",
              "   'type': 'application/json',\n",
              "   'validation:attemptedExtensions': ['label'],\n",
              "   'validation:errors': ['.label:assets']},\n",
              "  {'href': 'https://api.radiant.earth/mlhub/v1/collections/ref_south_africa_crops_competition_v1_train_source_s2/items/ref_south_africa_crops_competition_v1_train_source_s2_2371_2017_11_02',\n",
              "   'rel': 'source',\n",
              "   'title': None,\n",
              "   'type': 'application/json',\n",
              "   'validation:attemptedExtensions': ['label'],\n",
              "   'validation:errors': ['.label:assets']},\n",
              "  {'href': 'https://api.radiant.earth/mlhub/v1/collections/ref_south_africa_crops_competition_v1_train_source_s2/items/ref_south_africa_crops_competition_v1_train_source_s2_2371_2017_11_07',\n",
              "   'rel': 'source',\n",
              "   'title': None,\n",
              "   'type': 'application/json',\n",
              "   'validation:attemptedExtensions': ['label'],\n",
              "   'validation:errors': ['.label:assets']},\n",
              "  {'href': 'https://api.radiant.earth/mlhub/v1/collections/ref_south_africa_crops_competition_v1_train_source_s2/items/ref_south_africa_crops_competition_v1_train_source_s2_2371_2017_11_12',\n",
              "   'rel': 'source',\n",
              "   'title': None,\n",
              "   'type': 'application/json',\n",
              "   'validation:attemptedExtensions': ['label'],\n",
              "   'validation:errors': ['.label:assets']},\n",
              "  {'href': 'https://api.radiant.earth/mlhub/v1/collections/ref_south_africa_crops_competition_v1_train_source_s2/items/ref_south_africa_crops_competition_v1_train_source_s2_2371_2017_11_17',\n",
              "   'rel': 'source',\n",
              "   'title': None,\n",
              "   'type': 'application/json',\n",
              "   'validation:attemptedExtensions': ['label'],\n",
              "   'validation:errors': ['.label:assets']},\n",
              "  {'href': 'https://api.radiant.earth/mlhub/v1/collections/ref_south_africa_crops_competition_v1_train_source_s2/items/ref_south_africa_crops_competition_v1_train_source_s2_2371_2017_11_22',\n",
              "   'rel': 'source',\n",
              "   'title': None,\n",
              "   'type': 'application/json',\n",
              "   'validation:attemptedExtensions': ['label'],\n",
              "   'validation:errors': ['.label:assets']},\n",
              "  {'href': 'https://api.radiant.earth/mlhub/v1/collections/ref_south_africa_crops_competition_v1_train_source_s2/items/ref_south_africa_crops_competition_v1_train_source_s2_2371_2017_11_27',\n",
              "   'rel': 'source',\n",
              "   'title': None,\n",
              "   'type': 'application/json',\n",
              "   'validation:attemptedExtensions': ['label'],\n",
              "   'validation:errors': ['.label:assets']}],\n",
              " 'properties': {'datetime': '2017-08-01T00:00:00Z',\n",
              "  'label:description': 'Tile 2371 Labels',\n",
              "  'label:properties': None,\n",
              "  'label:tasks': ['segmentation'],\n",
              "  'label:type': 'raster',\n",
              "  'validation:attemptedExtensions': ['label'],\n",
              "  'validation:errors': ['.label:classes']},\n",
              " 'stac_extensions': ['label'],\n",
              " 'stac_version': '1.0.0-beta.2',\n",
              " 'type': 'Feature'}"
            ]
          },
          "metadata": {
            "tags": []
          },
          "execution_count": 18
        }
      ]
    },
    {
      "cell_type": "markdown",
      "metadata": {
        "id": "cbYGpN7bqFAK"
      },
      "source": [
        "> **IMPORTANT:** Some collections may have hundreds of thousands of items (e.g. `bigearthnet_v1_source`). Looping over all of the items for these massive collections may take a very long time (perhaps on the order of hours), and is not recommended. To prevent accidentally looping over all assets, the `client.list_collection_items` function limits the total number of returned items to ``100`` by default. You can change this limit using the `limit` argument:\n",
        "> ```python\n",
        "> client.list_collection_items(collection['id'], limit=150)\n",
        "> ```\n",
        "> If you would like to download all of the assets associated with a collection, it is far more efficient to use the `client.download_archive` method."
      ]
    },
    {
      "cell_type": "markdown",
      "metadata": {
        "id": "1J1_z6xIqFAL"
      },
      "source": [
        "### List Available Assets\n",
        "\n",
        "Each STAC Item has assets associated with it, representing the actual source imagery or labels described by that Item. \n",
        "\n",
        "The cell below summarizes the assets for the first item that we selected above by printing the key within the `assets` dictionary, the asset title and the media type."
      ]
    },
    {
      "cell_type": "code",
      "metadata": {
        "id": "qcKfhhPmqFAN",
        "outputId": "3136eacf-cc4d-49e6-b917-bbb1636e7d35",
        "colab": {
          "base_uri": "https://localhost:8080/"
        }
      },
      "source": [
        "for asset_key, asset in first_item['assets'].items():\n",
        "    title = asset['title']\n",
        "    media_type = asset['type']\n",
        "    print(f'{asset_key}: {title} [{media_type}]')"
      ],
      "execution_count": 19,
      "outputs": [
        {
          "output_type": "stream",
          "text": [
            "documentation: Dataset Documentation [application/pdf]\n",
            "field_ids: Field ID Labels [image/tiff; application=geotiff]\n",
            "field_info_train: Field Label List [text/csv]\n",
            "labels: Crop Labels [image/tiff; application=geotiff]\n",
            "raster_values: Raster Crop Type Mapping [application/json]\n"
          ],
          "name": "stdout"
        }
      ]
    },
    {
      "cell_type": "markdown",
      "metadata": {
        "id": "zuwVmTM4qFAO"
      },
      "source": [
        "## Download Assets\n",
        "\n",
        "To download these assets, we will first set up a helper function to get the download link from the asset and then download the content to a local file.\n",
        "\n",
        "> **NOTE:** If you are running these notebooks using Binder these resources will be downloaded to the remote file system that the notebooks are running on and **not to your local file system.** If you want to download the files to your machine, you will need to clone the repo and run the notebook locally."
      ]
    },
    {
      "cell_type": "code",
      "metadata": {
        "id": "dcqw07v6qFAP"
      },
      "source": [
        "import urllib.parse\n",
        "from pathlib import Path\n",
        "import requests\n",
        "\n",
        "\n",
        "def download(item, asset_key, output_dir='.'):\n",
        "    # Try to get the given asset and return None if it does not exist\n",
        "    asset = item.get('assets', {}).get(asset_key)\n",
        "    if asset is None:\n",
        "        print(f'Asset \"{asset_key}\" does not exist in this item')\n",
        "        return None\n",
        "    \n",
        "    # Try to get the download URL from the asset and return None if it does not exist\n",
        "    download_url = asset.get('href')\n",
        "    if download_url is None:\n",
        "        print(f'Asset {asset_key} does not have an \"href\" property, cannot download.')\n",
        "        return None\n",
        "    \n",
        "    session = get_session()\n",
        "    r = session.get(download_url, allow_redirects=True, stream=True)\n",
        "    \n",
        "    filename = urllib.parse.urlsplit(r.url).path.split('/')[-1]\n",
        "    output_path = Path(output_dir) / filename\n",
        "\n",
        "    \n",
        "    with output_path.open('wb') as dst:\n",
        "        for chunk in r.iter_content(chunk_size=512 * 1024):\n",
        "            if chunk:\n",
        "                dst.write(chunk)\n",
        "    \n",
        "    print(f'Downloaded to {output_path.resolve()}')\n",
        "    "
      ],
      "execution_count": 20,
      "outputs": []
    },
    {
      "cell_type": "markdown",
      "metadata": {
        "id": "XpT5jpmbqFAR"
      },
      "source": [
        "### Download Labels\n",
        "\n",
        "\n",
        "We can download the `labels` asset of the `selected_item` by calling the following function: "
      ]
    },
    {
      "cell_type": "code",
      "metadata": {
        "id": "X5sz8iotvhYC",
        "outputId": "05bd9260-2b16-4a7d-c2de-4b8e37be150a",
        "colab": {
          "base_uri": "https://localhost:8080/"
        }
      },
      "source": [
        "first_item.get('assets', {}).get('labels')"
      ],
      "execution_count": 22,
      "outputs": [
        {
          "output_type": "execute_result",
          "data": {
            "text/plain": [
              "{'description': None,\n",
              " 'href': 'https://api.radiant.earth/mlhub/v1/download/gAAAAABg40TGxyvFg5lVk-JyZFVJPNswAQzbXrKHaof8vHu2BrWOWR06exIQZoz3sRgByZQEwKlj16lSyjbVQUWTyVVRUFJ6WsKATDNLjVnn2dIatfg7Cmorw2YmLvFQW4Ys6FbjoZYg_mPmLFq_RFBoqF8ykqiCrcmDP_pkDxH2KAi5JMmlEYT7S5rmFDnbMnDKjQU0jNbUtpJXAOeOWn7fzcTqg69traFrIM_tFZnZuxFCA8oxN9UP-rWzvZYuH1_KZIfZrDnYWTA-baRqKNMYOptP1kciaMPlaOalyqb516saPrsX2BGjifa105f1_JWcWDDtUSq5akOQhnUkB6wmmVPZZfD2N-L-qwZXXtG-LRtGMxAP_ME=',\n",
              " 'roles': [],\n",
              " 'title': 'Crop Labels',\n",
              " 'type': 'image/tiff; application=geotiff'}"
            ]
          },
          "metadata": {
            "tags": []
          },
          "execution_count": 22
        }
      ]
    },
    {
      "cell_type": "code",
      "metadata": {
        "id": "97czYbAMqFAS",
        "outputId": "11045039-287c-4e73-babf-a06c484dd792",
        "colab": {
          "base_uri": "https://localhost:8080/"
        }
      },
      "source": [
        "download(first_item, 'labels')"
      ],
      "execution_count": 21,
      "outputs": [
        {
          "output_type": "stream",
          "text": [
            "Downloaded to /content/2371.tif\n"
          ],
          "name": "stdout"
        }
      ]
    },
    {
      "cell_type": "markdown",
      "metadata": {
        "id": "L6ve7d7KqFAT"
      },
      "source": [
        "### Download Metadata\n",
        "\n",
        "Likewise, we can download the documentation pdf and property description csv."
      ]
    },
    {
      "cell_type": "code",
      "metadata": {
        "id": "TA1lT4_nqFAU"
      },
      "source": [
        "download(first_item, 'documentation')\n",
        "download(first_item, 'property_descriptions')"
      ],
      "execution_count": null,
      "outputs": []
    },
    {
      "cell_type": "markdown",
      "metadata": {
        "id": "h74by1EiqFAU"
      },
      "source": [
        "### Download Source Imagery\n",
        "\n",
        "The Item that we fetched earlier represents a collection of labels. This item also contains references to all of the source imagery used to generate these labels in its `links` property. Any source imagery links will have a `rel` type of `\"source\"`.\n",
        "\n",
        "In the cell below we get a list of all the sources associated with this item and fetch the first one"
      ]
    },
    {
      "cell_type": "code",
      "metadata": {
        "id": "Id3XQ7Su0UZ0"
      },
      "source": [
        "source_links"
      ],
      "execution_count": null,
      "outputs": []
    },
    {
      "cell_type": "code",
      "metadata": {
        "id": "TpKCNEVVqFAZ",
        "outputId": "eadbc8f9-a0d5-4768-9576-b9e629cdf888",
        "colab": {
          "base_uri": "https://localhost:8080/"
        }
      },
      "source": [
        "source_links = [link for link in first_item['links'] if link['rel'] == 'source']\n",
        "print(f'Number of Source Items: {len(source_links)}')\n",
        "\n",
        "session = get_session()\n",
        "r = session.get(source_links[77]['href'])\n",
        "source_item = r.json()\n",
        "print('First Item\\n--------')\n",
        "source_item"
      ],
      "execution_count": 56,
      "outputs": [
        {
          "output_type": "stream",
          "text": [
            "Number of Source Items: 79\n",
            "First Item\n",
            "--------\n"
          ],
          "name": "stdout"
        },
        {
          "output_type": "execute_result",
          "data": {
            "text/plain": [
              "{'assets': {'B01': {'description': None,\n",
              "   'eo:bands': [{'common_name': 'Coastal aerosol', 'gsd': 10, 'name': 'B01'}],\n",
              "   'href': 'https://api.radiant.earth/mlhub/v1/download/gAAAAABg400tlhUJxRR5hKvSBzEKSppYuq-jQVnXlmYck6UjNXex9wF5o6DH4-PuE2rsB6bTh746qYayc93qfHveadqv2FaLnPM7KOJHnF7g1Yl_ZgpjFyJZK4-s1c-xXdA0EojRlYsYPKA89P_YVaa1phrOKKemXTmLBT3myntanyFSOxwxYwzVgtiR6Khi5Ni9_U2DgkBL57xFQRm_jw_ADWiciPmVqG8wppB8xh12dHK3Hm8f2eQgwUonxqmkH9t-yhweqNWcw_4fSmIfp9-V7KS6N8Odcbco_AEg9Mu12ujdI3bL08ppx9gZ6DUKeR9jFkC4-ihY0LkQFotFD21JPbN_ynVuzE__Xx1vb5x5-vhEKLrqG8ccpYWIvN0yyUSowLupxOSxPO2mtK1GuQGbJFEOdaZCqFYUEBdikBj89hRdsNlCqio=',\n",
              "   'roles': [],\n",
              "   'title': None,\n",
              "   'type': 'image/tiff'},\n",
              "  'B02': {'description': None,\n",
              "   'eo:bands': [{'common_name': 'Blue', 'gsd': 10, 'name': 'B02'}],\n",
              "   'href': 'https://api.radiant.earth/mlhub/v1/download/gAAAAABg400tOnGlCMs7F7bezwwn-K2FCswZETDifeR8_33RZ8D58-riMByMPzdeF874ru5rtDcmCYnMl9IXg-PFD_8xYeeYnSWa2Ner2A7LB7HgnCa_1Ye3sd8aahTCNn3h-gJ1vBQf5mUUAnzgIUw67RqbaiJz5g0n0pn3MbseJHkxvAmJu5K0ZKvZ-XWyAaq0gJEUk71lUOu5roJCClzujKOros5yf7SrKECibH85rA7ifr6GGUiQlJ8ifZE_mYrEtfRiB2qulN8AGpBShzBzFB7ytmrEyw7EwdPtKFaQeMx77-ExifqvSr1WNoLXhxdhbVguy1AtLZv3yoMHFpdXe9nq9171z28T-JAPLFcekPO3ZfHp-2WMkog7l3UUPMe_AJ4SEWPEZz8UdixuBibsMRmVlg21r3kQFpW91177zyHLp2PzhAU=',\n",
              "   'roles': [],\n",
              "   'title': None,\n",
              "   'type': 'image/tiff'},\n",
              "  'B03': {'description': None,\n",
              "   'eo:bands': [{'common_name': 'Green', 'gsd': 10, 'name': 'B03'}],\n",
              "   'href': 'https://api.radiant.earth/mlhub/v1/download/gAAAAABg400tyxTEwTAtBxASUKWWB2uDbd5TZhGsAv_KaGDS5GG62ZoNWEh6ZOZpUbSnDnrIEvXLgqhP52ZGOpqCQ3ATjYsS7mV3p9coRmKPmHYQxwViTR-evCz-CPKe-gbT75RJ-5Xfy-Inc7uKJparA_dAEYd5ry4fv4TieG94KJlmmy3AN6aBot9PiLm95J82laL_ZVCTu4V7Nboid9xVoMTWuOuSfUSJNx2W8JwKz-pprXyFEkI1JWMI_akU8Gk4cynq2eiVeGY4DKzHhoWnNOjYeM8-m6qYIiOFIqJNSoJB05xdJD2YvVBksnFqr-YX70onWoSrEYrtVMcTQ59W0mPZepSO5UViQegCbqTzE43AYdIj6LGyoEej81S_u3l_TF6ul4xK9Av8K6m6wvjfqWjOXQqM7Y2saJx0g4bHdJSLNelN9ko=',\n",
              "   'roles': [],\n",
              "   'title': None,\n",
              "   'type': 'image/tiff'},\n",
              "  'B04': {'description': None,\n",
              "   'eo:bands': [{'common_name': 'Red', 'gsd': 10, 'name': 'B04'}],\n",
              "   'href': 'https://api.radiant.earth/mlhub/v1/download/gAAAAABg400tZM8ATGdtSYf0A8VFiKECLXFhOwLwqvgtEpTdT5AYWjTdXZ8GrwvXRXiYzZrbE9kypa8OVcPksP-xJtAf9DxbbKbR_LNqKyfS3nJsGq48VWULSNBVLWMv4PXTfyMtKY6iMIVYUxRL3WQX749xoJ3gJlC-gWLxoDhf8A4RdlNZakWhXa0gjeJSycvrHF-OgmMsJx77sv3Ixdhv9glQjWD4kOm2OWSUzjCoWb67h8Me_2lKbWEP6FbgCnoURI4UaUHQW-4N6KwEyohwHgqQqN92ZS6a65KEo_UdWOZr0_QI2C0p0SVZEqC2vytXAk6ZRpfw0nOJJDM4FncoM-NxMIfe-Tdn4HxfJtlJ28zvhdiCz6t6blXjWqob4dM6jHHYbeSWQn3PX7cxYZSl-bnWTYUdEZA-xWB884tNwe9V_UqohVg=',\n",
              "   'roles': [],\n",
              "   'title': None,\n",
              "   'type': 'image/tiff'},\n",
              "  'B05': {'description': None,\n",
              "   'eo:bands': [{'common_name': 'Vegetation red edge',\n",
              "     'gsd': 10,\n",
              "     'name': 'B05'}],\n",
              "   'href': 'https://api.radiant.earth/mlhub/v1/download/gAAAAABg400tvrkvVS07cJQViLE_pPKspejdCFE21ZR4edCodllTZifuM4f_eKighwY2HaQ9qhDjT61wuzTRSlM4e9bDny67q7qPxnxRxt0vxXfTxsFCiF5yZ0oC8LsC0Ulm0xlL1BC_oLUHaZmCZ4Pfk0GDtrWlpTpSciK4c0uNw9B1F04M3zx998AbPk2uJIENUhByqWD7jCcOUKencSSOs5gtts6mzdL7CoqAdO9bbHQ1HAkZ1z5TzzA1vgibzlNoNUpDP2S6daEnG5ZvgYJnMEWksnHB4qvjuoAuAE9GHa3cwoWjn6DTp67iF_ofItRSwZgfRhFEVoQbjlCGiqCNircDwSgSxhH-GDT3wNir3kWrzBhq1rOWmYJpuGx3QpeUCDmsTSUsm07HCOCHfTjqmJ04AII_WdceZKXhrHSyFXC_lsR_1Bc=',\n",
              "   'roles': [],\n",
              "   'title': None,\n",
              "   'type': 'image/tiff'},\n",
              "  'B06': {'description': None,\n",
              "   'eo:bands': [{'common_name': 'Vegetation red edge',\n",
              "     'gsd': 10,\n",
              "     'name': 'B06'}],\n",
              "   'href': 'https://api.radiant.earth/mlhub/v1/download/gAAAAABg400tnopdpn1rwPRQRI-fJ0FHoHr0Qr5-HjsNCx1hTl1n3YdpwXSRGSSZX8i2b_jPXFz6RTfW1V-pnSeelzknKbgFWVnX29RALUWJyNVXKLlRTTnvlm47fWQeKrUqiZLGXfZsPLMe6WjhPE033BvpALAG0fwo35nUhZAnlVHNEKOAYewDhBJaDrM_1O40VjtupVdGNQ89sZoMmADdj4cz5Df9nZ78i_p20EUxv6tjPq8glEdHgrKB5aNkll-tNO86acgdkQfSGDR0YDVP0bOx9ovCnZjyJMhFOJxYlFQ80wcsemlgGuJDNkxdXmIORcexxAZZjTXAfroU45e2gWCJxTaigYvv-0gA-rY7LyI0GhymDx2nhhBGS2cji8NHiSII3NUUxpHw0h4y-3w-LpOSqaOb-U3a4t_iJL_vMHkYLsUYdGA=',\n",
              "   'roles': [],\n",
              "   'title': None,\n",
              "   'type': 'image/tiff'},\n",
              "  'B07': {'description': None,\n",
              "   'eo:bands': [{'common_name': 'Vegetation red edge',\n",
              "     'gsd': 10,\n",
              "     'name': 'B07'}],\n",
              "   'href': 'https://api.radiant.earth/mlhub/v1/download/gAAAAABg400teu5QK4c3bLdmgwvRbJlJJtC4BOQwMWur0sAxYs-eVIcyWEWyAutUfbNMfKF2hWwebgupSrSaNjX-ziAde4jJD3nmYVHE6B_zcSlpignV9KPlzDc1mS8nYxBQ5LTagi67d16KOksfa3ThjnLCpuMAdR0yzijtlk_JRMwbgFawCNIYzT7YOUL2HofWTVUPLEkHiAFl3e0sMWCv4sNFN-Ji1kK4ePox9lQ7oLXDPt9IfO3pKGVYAVNXka1U5ba5VZZYVC6nicKpSck541YSc7L5Q4qOg_OTEx_nG1XwjjT_1BT6olIKLlF0qDcZ2tz-0D0Qz_yWtqm-NlHsVupjBBPfnF-dsgHlt4Als4Pay2YccHu8Y75WZkUQFkbUGCdZEcfqJqJnYK2YXVKo_qhs9VOon75kdIwOIHUFbIwyzkYcRZo=',\n",
              "   'roles': [],\n",
              "   'title': None,\n",
              "   'type': 'image/tiff'},\n",
              "  'B08': {'description': None,\n",
              "   'eo:bands': [{'common_name': 'NIR', 'gsd': 10, 'name': 'B08'}],\n",
              "   'href': 'https://api.radiant.earth/mlhub/v1/download/gAAAAABg400t2doUNiZ5Xcy63xHouQwzYgscd6iVeRqh4-rL2O0bawLbqMXMInW7Y_9TVZhtNIerLj4PcAd9uqywOxPcL8WYagLRRzxkfp1ItUZ9ci9npaQS_pjb5o0RjFtSPtgDcUe46HLQbErdaeL6G72LsuBA0SteqJdlxkW3dEfriVCOHfvHp9Yl5r3CU7m5hO6JlbOxMjvP3XMIrsdue2mBjmWr93BRlRACD41w31eYRWfVuy9PKsWramwFe3MH9bGHU64OBYcee0WcSYjYMZ80C4B79zvBxHvXUjZwnFnfFHqiaXAe5YXWJy1Dsaums4lY-5Kz8NO67E17u7nb9Ur-dKRJU2LJismowbKVoAaZSlZYdqOhS8O53eG4XPmLUr7p6h7x5nrteyY8C1McgGRGLGyTIISwVXdGJREbrkUI2PKnEog=',\n",
              "   'roles': [],\n",
              "   'title': None,\n",
              "   'type': 'image/tiff'},\n",
              "  'B09': {'description': None,\n",
              "   'eo:bands': [{'common_name': 'Water Vapour', 'gsd': 10, 'name': 'B09'}],\n",
              "   'href': 'https://api.radiant.earth/mlhub/v1/download/gAAAAABg400t6OQ38So5xxFNpIqTy278I2-CilnfKNqKESxKv1GgNu-UIDRMFELcsFETtP7d2_7AKcpony8W9gJKNrwAvvg5DTDf1IDpjcGsFKvfURa5dMfPHo6tsKVpRYhE9RblvJoqcTCXuDT-En8sB-I94bw8Nep9UmUUYM6tFA8yzaUyCJNFf3w52yMtBSKwjLY7OZX8qTf33nqf0DlvShw3WJdc2N8J5iX6yb6I6Mgec2mn5PITIimzXjU6x3KdJuvDgf9KchVpNqh6qRl8AJMDJUlpG9c1fX8ywrBHbHa5jr3YOvt7E6jzL330oJGOA0WtRVbU7QUZ7XixlJeLXpaNtYntjcoJBdvpZFLzwaCHRmrCHPuYSyxCWerZmBtFWIMZh3Wk-kmI8iUkkc3kdRtg3TXN_uY8V0yYZ0OjafZ2xekRn_Y=',\n",
              "   'roles': [],\n",
              "   'title': None,\n",
              "   'type': 'image/tiff'},\n",
              "  'B11': {'description': None,\n",
              "   'eo:bands': [{'common_name': 'SWIR', 'gsd': 10, 'name': 'B11'}],\n",
              "   'href': 'https://api.radiant.earth/mlhub/v1/download/gAAAAABg400tqaGTw2yD9Q4QkQIr1VqmWJHJKzCcwK5bjHcmsp8_4ruFIx7u0JEnRslGH5RQl_MZmMok8sBsYk4HF_WjyFoo8Hwf53msWIg84mTklnLaaVRrViQT0HuAkDyQ3L-U1Fikv84BYLw0pf1RjqRfdHcyz8ApoOezCRGQf1Qmg2Y1OgO1C2YMtr1leFFDCYudK7Glo2oXNpRJUn9dA8iH17-kwVmuc82Z9esl0aHftXsife38UWpQ3ELRqJD8RSl5xGQOuf57caKCtA8wmaoqF_DRp8anP012O_wuCQZ0t1ZLMMGeHsAnroqZ7hAP35WFRlqd0riGJfF4BZSgjTz-fGomoznOkRzaWjmMosmEMkhxUIvUZ4nEw1tDHE19J1PfieFNQU5oT3rRoxw1vByD_HTRngpjvQ-Y5-Sz6Js5-rX2WgI=',\n",
              "   'roles': [],\n",
              "   'title': None,\n",
              "   'type': 'image/tiff'},\n",
              "  'B12': {'description': None,\n",
              "   'eo:bands': [{'common_name': 'SWIR', 'gsd': 10, 'name': 'B12'}],\n",
              "   'href': 'https://api.radiant.earth/mlhub/v1/download/gAAAAABg400tFKH2XLtvO8IbPjkWdq8fYA-e0KW1jvIqJb-DK0UWuZr8NUJcDW0JQtE7aMrGuBaNMr_XM3HYjV50PlKM3nBETvuZS7unU8TmTC8hHRWoaocTX5uqNOgPAmGgDB6jUHEvGi6QxE58wUVR7tMtxOiitLpm62UEvGtPfgkpw-UJpW7wEuBdcw-SSRNWteXbJEbKun5U31Cxmkv46-9LTtZyQ6qlaelhmE8p_VpaHF723PmU9BEn-paCdbmUOZDFMNfBaivZAE93f0UYPWt3br9gJaPQCgUeBz4RZ6HdbTlFvSYZuN6dkTXbXI8KavzuzCXHgGTvLkx05n-MM_-DJuvC49bMqWijP_OA8J64G75C7umuNDHARdJjRcw7u5suEvYuZFcFMEH3RQr3H6C6X-QJC1vJmLePuY1tIKiOfHYMbUI=',\n",
              "   'roles': [],\n",
              "   'title': None,\n",
              "   'type': 'image/tiff'},\n",
              "  'B8A': {'description': None,\n",
              "   'eo:bands': [{'common_name': 'Narrow NIR', 'gsd': 10, 'name': 'B8A'}],\n",
              "   'href': 'https://api.radiant.earth/mlhub/v1/download/gAAAAABg400tBRybIhQk-6RJ5fm2puUd968YLAZawTkWVnW3DZcD07WsTlNojwZEuhZz5sRzYauoPgCLchg93TgrkIhqdTBpSqFFba1VCX6z415SEJX4F5jpyrYIC_cyVaK-D8q0adnDcsqYVH7qn1YYIxoT-XmahioP3PVlZjrESUV3aAOIqraHNCWHjv_acMjpifOZU9wj1itG_AMkAY9sLnNIW6yl_BcYcpfdB5tw-uri99Jti6yQeZ51yQfvA-NU3_O4ZVp8a-DWBXDNyDE96LuiHYH6jROmCAYlGcGiK75L6A45A18YHLX4nP8PuvzCyTiRWmxzZjHRNqJJM57NiGnuYROo0KddwT9zs4bTnsgaHtjcFhpxyJ3kJ0fclXQ0LEeXSReZoIu10v3AiGMJwbD_ZX4IWUM5Pfb66oK8slT7NxMwzy8=',\n",
              "   'roles': [],\n",
              "   'title': None,\n",
              "   'type': 'image/tiff'},\n",
              "  'CLM': {'description': None,\n",
              "   'eo:bands': [{'common_name': 'Cloud Mask', 'name': 'CLM'}],\n",
              "   'href': 'https://api.radiant.earth/mlhub/v1/download/gAAAAABg400twgElQN1YpjNMbmslFgPDCEK2AeD65dtonDincmfXKYFaAp9xeEO6mHeGHp2XzEuua7vMPyvDPLnHTPNeEJjp_2dUCE_h3f9RG3lnEpuUG1Qw3wAD8h_PkvvlPTkIn1KTS9-rvAuvqBGGK2G4iCCvXVEqZwc12YQrLiWSOabgNOgrFYvRlXM9l3OQzmCQbq1eUi5SddRsEAueYY5BpxqyYZWA0Ohguuytt4h26YeHGKRKP55nO93fGxu8m8RpRH01zkxn6jte3ThFAs3Zzb190aHPrJcdStNO8kC2wAHDzFHqNndlwwyY5SqCu6_9WFGkw0yL59HrWW3Jc96Y8OHvUM6keA6ZjsqDbWzWe3-Tai_KfgWrm9GPxMDpGPz8FFiU6sjkONQRVYZwwDNIFV_Ntihjp-2OZrDsuDWCARpuHbg=',\n",
              "   'roles': [],\n",
              "   'title': None,\n",
              "   'type': 'image/tiff; application=geotiff'}},\n",
              " 'bbox': [18.539506759600922,\n",
              "  -33.77762478387399,\n",
              "  18.56778298900056,\n",
              "  -33.7540088140598],\n",
              " 'collection': 'ref_south_africa_crops_competition_v1_train_source_s2',\n",
              " 'geometry': {'coordinates': [[[18.539506759600922, -33.77707678034117],\n",
              "    [18.56713082282756, -33.77762478387399],\n",
              "    [18.56778298900056, -33.75455634301551],\n",
              "    [18.540166312701263, -33.7540088140598],\n",
              "    [18.539506759600922, -33.77707678034117]]],\n",
              "  'type': 'Polygon'},\n",
              " 'id': 'ref_south_africa_crops_competition_v1_train_source_s2_2371_2017_11_22',\n",
              " 'links': [{'href': 'https://api.radiant.earth/mlhub/v1/collections/ref_south_africa_crops_competition_v1_train_source_s2',\n",
              "   'rel': 'parent',\n",
              "   'title': 'Parent collection',\n",
              "   'type': 'application/json'}],\n",
              " 'properties': {'datetime': '2017-11-22T00:00:00+0000',\n",
              "  'eo:bands': [{'common_name': 'Coastal aerosol', 'gsd': 10, 'name': 'B01'},\n",
              "   {'common_name': 'Blue', 'gsd': 10, 'name': 'B02'},\n",
              "   {'common_name': 'Green', 'gsd': 10, 'name': 'B03'},\n",
              "   {'common_name': 'Red', 'gsd': 10, 'name': 'B04'},\n",
              "   {'common_name': 'Vegetation red edge', 'gsd': 10, 'name': 'B05'},\n",
              "   {'common_name': 'Vegetation red edge', 'gsd': 10, 'name': 'B06'},\n",
              "   {'common_name': 'Vegetation red edge', 'gsd': 10, 'name': 'B07'},\n",
              "   {'common_name': 'NIR', 'gsd': 10, 'name': 'B08'},\n",
              "   {'common_name': 'Narrow NIR', 'gsd': 10, 'name': 'B8A'},\n",
              "   {'common_name': 'Water Vapour', 'gsd': 10, 'name': 'B09'},\n",
              "   {'common_name': 'SWIR', 'gsd': 10, 'name': 'B11'},\n",
              "   {'common_name': 'SWIR', 'gsd': 10, 'name': 'B12'},\n",
              "   {'common_name': 'Cloud Mask', 'name': 'CLM'}],\n",
              "  'gsd': 10,\n",
              "  'instruments': ['MultiSpectral Instrument'],\n",
              "  'platform': 'Sentinel-2',\n",
              "  'validation:attemptedExtensions': ['eo'],\n",
              "  'validation:errors': []},\n",
              " 'stac_extensions': ['eo'],\n",
              " 'stac_version': '1.0.0-beta.2',\n",
              " 'type': 'Feature'}"
            ]
          },
          "metadata": {
            "tags": []
          },
          "execution_count": 56
        }
      ]
    },
    {
      "cell_type": "markdown",
      "metadata": {
        "id": "XX82xYK0qFAa"
      },
      "source": [
        "Once we have the source item, we can use our `download` function to download assets associated with that item. \n",
        "\n",
        "The cell below downloads just the first 3 bands of the source item that we just fetched (a Sentinel 2 scene)."
      ]
    },
    {
      "cell_type": "code",
      "metadata": {
        "id": "dNaEXDlQ4OtE",
        "outputId": "896e4dee-7a42-4db2-c611-ada21380c044",
        "colab": {
          "base_uri": "https://localhost:8080/",
          "height": 88
        }
      },
      "source": [
        "source_item['a"
      ],
      "execution_count": 54,
      "outputs": [
        {
          "output_type": "execute_result",
          "data": {
            "application/vnd.google.colaboratory.intrinsic+json": {
              "type": "string"
            },
            "text/plain": [
              "'https://api.radiant.earth/mlhub/v1/download/gAAAAABg40v57WYtQCUWfchPNFrelC6UDBMAe7TNTET-JtBJgKUQW11FFxh2ADO-gbEbFQCOIVR7hDQ8bUGmPYHQzN1CpdWnKqWYuB3Z5ZeKGl7Lm_odWRnQSuJckyINWs62WCrfi8EmgMmKVtXCKFGxFL-A8CX4-lD9VOrqn3FLJzJAQ-nPnLFLORzsi3OsWRb8baNQhyzVvePbudcQdM9ycNaE9Vfyyw6QGPH4lURibHgYySwt_ZE-M_RXqSJMxo6u_POyxe0Xpel_s2WN6tsD84d0TYtvMEwdLR3XmwmoFK4cfRdyzX6P6Mkp4EER0EYIkHHOYvvzGs7uboo2cvB56Y-mcuEd4fW0sogl2on7hGplhClKcu5YUXYzyRrPvjREcwv__qasGIJS-xo24730WgA5flPAXzuwXLFy-L8RmVvtjRGhUwQ='"
            ]
          },
          "metadata": {
            "tags": []
          },
          "execution_count": 54
        }
      ]
    },
    {
      "cell_type": "code",
      "metadata": {
        "id": "wHQhdak802w0",
        "outputId": "020fae5e-f992-49b6-d48f-747710ae6785",
        "colab": {
          "base_uri": "https://localhost:8080/"
        }
      },
      "source": [
        "!pip install rasterio\n",
        "import rasterio"
      ],
      "execution_count": 32,
      "outputs": [
        {
          "output_type": "stream",
          "text": [
            "Collecting rasterio\n",
            "\u001b[?25l  Downloading https://files.pythonhosted.org/packages/a3/6e/b32a74bca3d4fca8286c6532cd5795ca8a2782125c23b383448ecd9a70b6/rasterio-1.2.6-cp37-cp37m-manylinux1_x86_64.whl (19.3MB)\n",
            "\u001b[K     |████████████████████████████████| 19.3MB 1.2MB/s \n",
            "\u001b[?25hRequirement already satisfied: click>=4.0 in /usr/local/lib/python3.7/dist-packages (from rasterio) (7.1.2)\n",
            "Requirement already satisfied: numpy in /usr/local/lib/python3.7/dist-packages (from rasterio) (1.19.5)\n",
            "Collecting click-plugins\n",
            "  Downloading https://files.pythonhosted.org/packages/e9/da/824b92d9942f4e472702488857914bdd50f73021efea15b4cad9aca8ecef/click_plugins-1.1.1-py2.py3-none-any.whl\n",
            "Collecting snuggs>=1.4.1\n",
            "  Downloading https://files.pythonhosted.org/packages/cc/0e/d27d6e806d6c0d1a2cfdc5d1f088e42339a0a54a09c3343f7f81ec8947ea/snuggs-1.4.7-py3-none-any.whl\n",
            "Requirement already satisfied: certifi in /usr/local/lib/python3.7/dist-packages (from rasterio) (2021.5.30)\n",
            "Collecting cligj>=0.5\n",
            "  Downloading https://files.pythonhosted.org/packages/73/86/43fa9f15c5b9fb6e82620428827cd3c284aa933431405d1bcf5231ae3d3e/cligj-0.7.2-py3-none-any.whl\n",
            "Requirement already satisfied: attrs in /usr/local/lib/python3.7/dist-packages (from rasterio) (21.2.0)\n",
            "Collecting affine\n",
            "  Downloading https://files.pythonhosted.org/packages/ac/a6/1a39a1ede71210e3ddaf623982b06ecfc5c5c03741ae659073159184cd3e/affine-2.3.0-py2.py3-none-any.whl\n",
            "Requirement already satisfied: setuptools in /usr/local/lib/python3.7/dist-packages (from rasterio) (57.0.0)\n",
            "Requirement already satisfied: pyparsing>=2.1.6 in /usr/local/lib/python3.7/dist-packages (from snuggs>=1.4.1->rasterio) (2.4.7)\n",
            "Installing collected packages: click-plugins, snuggs, cligj, affine, rasterio\n",
            "Successfully installed affine-2.3.0 click-plugins-1.1.1 cligj-0.7.2 rasterio-1.2.6 snuggs-1.4.7\n"
          ],
          "name": "stdout"
        }
      ]
    },
    {
      "cell_type": "code",
      "metadata": {
        "id": "ywsm8GRW0qlb"
      },
      "source": [
        "with rasterio.open('/content/2371_2017_11_17_B03_10m.tif') as src:\n",
        "  my_file = src.read(1)"
      ],
      "execution_count": 33,
      "outputs": []
    },
    {
      "cell_type": "code",
      "metadata": {
        "id": "tSCiI7jd01i9",
        "outputId": "0aeb1453-1260-4e8f-94f4-ffb94756ee06",
        "colab": {
          "base_uri": "https://localhost:8080/"
        }
      },
      "source": [
        "my_file.shape"
      ],
      "execution_count": 34,
      "outputs": [
        {
          "output_type": "execute_result",
          "data": {
            "text/plain": [
              "(256, 256)"
            ]
          },
          "metadata": {
            "tags": []
          },
          "execution_count": 34
        }
      ]
    },
    {
      "cell_type": "code",
      "metadata": {
        "id": "u5NbG9QVqFAa",
        "outputId": "e2b00e10-70b2-4833-c0c6-9509b4e9fef8",
        "colab": {
          "base_uri": "https://localhost:8080/"
        }
      },
      "source": [
        "download(source_item, 'B01')\n",
        "download(source_item, 'B02')\n",
        "download(source_item, 'B03')"
      ],
      "execution_count": 27,
      "outputs": [
        {
          "output_type": "stream",
          "text": [
            "Downloaded to /content/2371_2017_11_17_B01_10m.tif\n",
            "Downloaded to /content/2371_2017_11_17_B02_10m.tif\n",
            "Downloaded to /content/2371_2017_11_17_B03_10m.tif\n"
          ],
          "name": "stdout"
        }
      ]
    },
    {
      "cell_type": "markdown",
      "metadata": {
        "id": "dd_9EIv_qFAc"
      },
      "source": [
        "### Download All Assets\n",
        "\n",
        "Looping through all items and downloading the associated assets may be *very* time-consuming for larger datasets like BigEarthNet or LandCoverNet. Instead, MLHub provides TAR archives of all collections that can be downloaded using the `/archive/{collection_id}` endpoint. \n",
        "\n",
        "The following cell uses the `client.download_archive` function to download the `ref_african_crops_kenya_01_labels` archive to the current working directory."
      ]
    },
    {
      "cell_type": "code",
      "metadata": {
        "id": "NOhbSGWaqFAd",
        "outputId": "78258466-d28d-4588-ee9e-1971a4f4931a",
        "colab": {
          "base_uri": "https://localhost:8080/",
          "height": 66,
          "referenced_widgets": [
            "a19e823362b54de291648f5c62801374",
            "96398604f67946538f1349c07178b6e0",
            "1b3af7fdc3654aa5a54032ca22673f16",
            "03fce18bc5734cd68f607e22061360f1",
            "a08e0247bef14ffd97273ea9a49386c0",
            "59637e3b120e43e8aaec54f93ed52bac",
            "c8b4cb3964e240f4b671b21d01991909",
            "3ee12bce4f81477c865c587e4d0b9010",
            "8e7b38d3a559449687bb3204f70d3992",
            "18a9710d4a7f40bda0351256fe15378a",
            "e603892b16764f9292c831e46f9479bc"
          ]
        }
      },
      "source": [
        "client.download_archive('ref_south_africa_crops_competition_v1_train_labels', output_dir='.')"
      ],
      "execution_count": 28,
      "outputs": [
        {
          "output_type": "display_data",
          "data": {
            "application/vnd.jupyter.widget-view+json": {
              "model_id": "a19e823362b54de291648f5c62801374",
              "version_minor": 0,
              "version_major": 2
            },
            "text/plain": [
              "  0%|          | 0/31.4 [00:00<?, ?M/s]"
            ]
          },
          "metadata": {
            "tags": []
          }
        },
        {
          "output_type": "execute_result",
          "data": {
            "text/plain": [
              "PosixPath('/content/ref_south_africa_crops_competition_v1_train_labels.tar.gz')"
            ]
          },
          "metadata": {
            "tags": []
          },
          "execution_count": 28
        }
      ]
    },
    {
      "cell_type": "code",
      "metadata": {
        "id": "-q8UEv6RziBP",
        "outputId": "4a64f038-b5ac-4535-f7ef-6fb4ad87ac67",
        "colab": {
          "base_uri": "https://localhost:8080/"
        }
      },
      "source": [
        "output_dir='.'\n",
        "download_url = 'https://api.radiant.earth/mlhub/v1/download/gAAAAABg40v57WYtQCUWfchPNFrelC6UDBMAe7TNTET-JtBJgKUQW11FFxh2ADO-gbEbFQCOIVR7hDQ8bUGmPYHQzN1CpdWnKqWYuB3Z5ZeKGl7Lm_odWRnQSuJckyINWs62WCrfi8EmgMmKVtXCKFGxFL-A8CX4-lD9VOrqn3FLJzJAQ-nPnLFLORzsi3OsWRb8baNQhyzVvePbudcQdM9ycNaE9Vfyyw6QGPH4lURibHgYySwt_ZE-M_RXqSJMxo6u_POyxe0Xpel_s2WN6tsD84d0TYtvMEwdLR3XmwmoFK4cfRdyzX6P6Mkp4EER0EYIkHHOYvvzGs7uboo2cvB56Y-mcuEd4fW0sogl2on7hGplhClKcu5YUXYzyRrPvjREcwv__qasGIJS-xo24730WgA5flPAXzuwXLFy-L8RmVvtjRGhUwQ='\n",
        "session = get_session()\n",
        "r = session.get(download_url, allow_redirects=True, stream=True)\n",
        "\n",
        "filename = urllib.parse.urlsplit(r.url).path.split('/')[-1]\n",
        "output_path = Path(output_dir) / filename\n",
        "\n",
        "\n",
        "with output_path.open('wb') as dst:\n",
        "    for chunk in r.iter_content(chunk_size=512 * 1024):\n",
        "        if chunk:\n",
        "            dst.write(chunk)\n",
        "\n",
        "print(f'Downloaded to {output_path.resolve()}')"
      ],
      "execution_count": 55,
      "outputs": [
        {
          "output_type": "stream",
          "text": [
            "Downloaded to /content/2371_2017_11_27_B01_10m.tif\n"
          ],
          "name": "stdout"
        }
      ]
    }
  ]
}